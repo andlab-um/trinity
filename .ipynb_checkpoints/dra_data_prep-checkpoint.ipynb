{
 "cells": [
  {
   "cell_type": "code",
   "execution_count": 1,
   "metadata": {
    "ExecuteTime": {
     "end_time": "2022-02-19T12:47:51.262413Z",
     "start_time": "2022-02-19T12:47:50.792541Z"
    }
   },
   "outputs": [],
   "source": [
    "from eval import *"
   ]
  },
  {
   "cell_type": "code",
   "execution_count": 2,
   "metadata": {
    "ExecuteTime": {
     "end_time": "2022-02-19T12:48:17.658269Z",
     "start_time": "2022-02-19T12:48:17.625145Z"
    }
   },
   "outputs": [],
   "source": [
    "def model_selection(results_mms, results_rsfc, target, combination_mms, combination_rsfc, parameters_mms, parameters_rsfc, titles):\n",
    "\n",
    "    imq_rdms, mms_rdms, rsfc_rdms = [], [], []\n",
    "    num_p_mms = len(parameters_mms)\n",
    "    num_p_rsfc = len(parameters_rsfc)\n",
    "\n",
    "    for i, r in enumerate(results_mms):\n",
    "        \n",
    "        r = [(j[0], [-1]) if j[0].split('-')[0] != target else j for j in r]\n",
    "\n",
    "        idx, m = sorted([p for p in enumerate(mean(r, num_p_mms))],\n",
    "                        key=lambda x: x[-1],\n",
    "                        reverse=True)[0]\n",
    "            \n",
    "        if parameters_mms[idx][0] in DSF_X_mvs:\n",
    "            x = combination_mms[i][0][0]\n",
    "                \n",
    "        if parameters_mms[idx][0] in DSF_X_uvs:\n",
    "            x = combination_mms[i][0][1]\n",
    "            \n",
    "        if parameters_mms[idx][-1] == None:            \n",
    "            rho, imq_rdm, mms_rdm = run(x,\n",
    "                                        combination_mms[i][1],\n",
    "                                        parameters_mms[idx][0],\n",
    "                                        parameters_mms[idx][1],\n",
    "                                        rdm=True)\n",
    "\n",
    "            print(titles[i] + ': ' + '%.4f' % float(rho) + ' achieved by ' + parameters_mms[idx][0] +\n",
    "                  '-' + parameters_mms[idx][1] + ' ' + '%.4f' % float(m))\n",
    "\n",
    "        else:\n",
    "            rho, imq_rdm, mms_rdm = run(x,\n",
    "                                        combination_mms[i][1],\n",
    "                                        parameters_mms[idx][0],\n",
    "                                        parameters_mms[idx][1],\n",
    "                                        parameters_mms[idx][2],\n",
    "                                        rdm=True)\n",
    "\n",
    "            print(titles[i] + ': ' + '%.4f' % float(rho) + ' achieved by ' + parameters_mms[idx][0] +\n",
    "                  '-' + parameters_mms[idx][1] + '-' +\n",
    "                  str(parameters_mms[idx][2][1][0]) + '-' +\n",
    "                  str(parameters_mms[idx][2][2]) + ' ' + '%.4f' % float(m))\n",
    "\n",
    "        imq_rdms.append(imq_rdm)\n",
    "        mms_rdms.append(mms_rdm)\n",
    "    \n",
    "    print('------------------------------------------------')\n",
    "        \n",
    "    for i, r in enumerate(results_rsfc):\n",
    "        \n",
    "        r = [(j[0], [-1]) if j[0].split('-')[0] != target else j for j in r]\n",
    "\n",
    "        idx, m = sorted([p for p in enumerate(mean(r, num_p_rsfc))],\n",
    "                        key=lambda x: x[-1],\n",
    "                        reverse=True)[0]\n",
    "            \n",
    "        x = combination_rsfc[i][0]\n",
    "            \n",
    "        if parameters_rsfc[idx][0] in DSF_X_mvs:\n",
    "            x = combination_rsfc[i][0][0]\n",
    "                \n",
    "        if parameters_rsfc[idx][0] in DSF_X_uvs:\n",
    "            x = combination_rsfc[i][0][1]\n",
    "            \n",
    "        rho, _, rsfc_rdm = run(x,\n",
    "                               combination_rsfc[i][1],\n",
    "                               parameters_rsfc[idx][0],\n",
    "                               parameters_rsfc[idx][1],\n",
    "                               rdm=True)\n",
    "\n",
    "        print(titles[i] + ': ' + '%.4f' % float(rho) + ' achieved by ' + parameters_rsfc[idx][0] +\n",
    "              '-' + parameters_rsfc[idx][1] + ' ' + '%.4f' % float(m))\n",
    "\n",
    "        rsfc_rdms.append(rsfc_rdm)\n",
    "    \n",
    "    subject_left = [i+1 for i in range(24) for j in range(24) if i < j]+[j+1 for i in range(24) for j in range(24) if i < j]\n",
    "    subject_right = [j+1 for i in range(24) for j in range(24) if i < j]+[i+1 for i in range(24) for j in range(24) if i < j]\n",
    "    \n",
    "    for i, t in enumerate(titles):\n",
    "    \n",
    "        df = DataFrame({\n",
    "            t[:2]: list(zscore(imq_rdms[i], nan_policy='omit')*-1)+list(zscore(imq_rdms[i], nan_policy='omit')*-1),\n",
    "            t[-2:]+'_MMS': list(zscore(mms_rdms[i])*-1)+list(zscore(mms_rdms[i])*-1),\n",
    "            t[-2:]+'_rsFC': list(zscore(rsfc_rdms[i])*-1)+list(zscore(rsfc_rdms[i])*-1),\n",
    "            t[-2:]+'_MMS_o': list(mms_rdms[i]*-1)+list(mms_rdms[i]*-1),\n",
    "            t[-2:]+'_rsFC_o': list(rsfc_rdms[i]*-1)+list(rsfc_rdms[i]*-1),\n",
    "            'Subject_left': subject_left,\n",
    "            'Subject_right': subject_right,\n",
    "        })\n",
    "        df.to_csv('./regression_data/'+t+'/'+target+'.csv')"
   ]
  },
  {
   "cell_type": "code",
   "execution_count": 3,
   "metadata": {
    "ExecuteTime": {
     "end_time": "2022-02-19T12:48:24.413656Z",
     "start_time": "2022-02-19T12:48:21.242383Z"
    }
   },
   "outputs": [],
   "source": [
    "SS_mvs, SO_mvs, OS_mvs = load_IMQ_data(score='mvs')\n",
    "SS_uvs, SO_uvs, OS_uvs = load_IMQ_data(score='uvs')\n",
    "mms_la, mms_ra, mms_lh, mms_rh = load_mms_data()\n",
    "rsfc_la, rsfc_ra, rsfc_lh, rsfc_rh = load_rsfc_data()"
   ]
  },
  {
   "cell_type": "code",
   "execution_count": 4,
   "metadata": {
    "ExecuteTime": {
     "end_time": "2022-02-19T12:48:41.054134Z",
     "start_time": "2022-02-19T12:48:40.913227Z"
    }
   },
   "outputs": [],
   "source": [
    "f_np_mvs = open('./log/ToM-MMS/mvs/NP/results.pkl', 'rb')\n",
    "result_ss_mms_la, result_ss_mms_ra, result_ss_mms_lh, result_ss_mms_rh, result_so_mms_la, result_so_mms_ra, result_so_mms_lh, result_so_mms_rh, result_os_mms_la, result_os_mms_ra, result_os_mms_lh, result_os_mms_rh = pickle.load(\n",
    "    f_np_mvs)\n",
    "\n",
    "results_np_mvs = (result_ss_mms_la, result_ss_mms_ra, result_ss_mms_lh, result_ss_mms_rh, result_so_mms_la, result_so_mms_ra,\n",
    "                  result_so_mms_lh, result_so_mms_rh, result_os_mms_la, result_os_mms_ra, result_os_mms_lh, result_os_mms_rh)\n",
    "\n",
    "f_np_uvs = open('./log/ToM-MMS/uvs/NP/results.pkl', 'rb')\n",
    "result_ss_mms_la, result_ss_mms_ra, result_ss_mms_lh, result_ss_mms_rh, result_so_mms_la, result_so_mms_ra, result_so_mms_lh, result_so_mms_rh, result_os_mms_la, result_os_mms_ra, result_os_mms_lh, result_os_mms_rh = pickle.load(\n",
    "    f_np_uvs)\n",
    "\n",
    "results_np_uvs = (result_ss_mms_la, result_ss_mms_ra, result_ss_mms_lh, result_ss_mms_rh, result_so_mms_la, result_so_mms_ra,\n",
    "                  result_so_mms_lh, result_so_mms_rh, result_os_mms_la, result_os_mms_ra, result_os_mms_lh, result_os_mms_rh)\n",
    "\n",
    "results_np = [results_np_mvs[i]+results_np_uvs[i] for i in range(12)]"
   ]
  },
  {
   "cell_type": "code",
   "execution_count": 5,
   "metadata": {
    "ExecuteTime": {
     "end_time": "2022-02-19T12:48:47.453162Z",
     "start_time": "2022-02-19T12:48:43.610221Z"
    }
   },
   "outputs": [],
   "source": [
    "f_p_mvs = open('./log/ToM-MMS/mvs/P/results.pkl', 'rb')\n",
    "result_ss_mms_la, result_ss_mms_ra, result_ss_mms_lh, result_ss_mms_rh, result_so_mms_la, result_so_mms_ra, result_so_mms_lh, result_so_mms_rh, result_os_mms_la, result_os_mms_ra, result_os_mms_lh, result_os_mms_rh = pickle.load(\n",
    "    f_p_mvs)\n",
    "\n",
    "results_p_mvs = (result_ss_mms_la, result_ss_mms_ra, result_ss_mms_lh, result_ss_mms_rh, result_so_mms_la, result_so_mms_ra,\n",
    "                 result_so_mms_lh, result_so_mms_rh, result_os_mms_la, result_os_mms_ra, result_os_mms_lh, result_os_mms_rh)\n",
    "\n",
    "f_p_uvs = open('./log/ToM-MMS/uvs/P/results.pkl', 'rb')\n",
    "result_ss_mms_la, result_ss_mms_ra, result_ss_mms_lh, result_ss_mms_rh, result_so_mms_la, result_so_mms_ra, result_so_mms_lh, result_so_mms_rh, result_os_mms_la, result_os_mms_ra, result_os_mms_lh, result_os_mms_rh = pickle.load(\n",
    "    f_p_uvs)\n",
    "\n",
    "results_p_uvs = (result_ss_mms_la, result_ss_mms_ra, result_ss_mms_lh, result_ss_mms_rh, result_so_mms_la, result_so_mms_ra,\n",
    "                 result_so_mms_lh, result_so_mms_rh, result_os_mms_la, result_os_mms_ra, result_os_mms_lh, result_os_mms_rh)\n",
    "\n",
    "results_p = [results_p_mvs[i]+results_p_uvs[i] for i in range(12)]"
   ]
  },
  {
   "cell_type": "code",
   "execution_count": 6,
   "metadata": {
    "ExecuteTime": {
     "end_time": "2022-02-19T12:49:44.531587Z",
     "start_time": "2022-02-19T12:49:43.676227Z"
    }
   },
   "outputs": [],
   "source": [
    "f_pw_mvs = open('./log/ToM-MMS/mvs/PW/results.pkl', 'rb')\n",
    "result_ss_mms_la, result_ss_mms_ra, result_ss_mms_lh, result_ss_mms_rh, result_so_mms_la, result_so_mms_ra, result_so_mms_lh, result_so_mms_rh, result_os_mms_la, result_os_mms_ra, result_os_mms_lh, result_os_mms_rh = pickle.load(\n",
    "    f_pw_mvs)\n",
    "\n",
    "results_pw_mvs = (result_ss_mms_la, result_ss_mms_ra, result_ss_mms_lh, result_ss_mms_rh, result_so_mms_la, result_so_mms_ra,\n",
    "                  result_so_mms_lh, result_so_mms_rh, result_os_mms_la, result_os_mms_ra, result_os_mms_lh, result_os_mms_rh)\n",
    "\n",
    "f_pw_uvs = open('./log/ToM-MMS/uvs/PW/results.pkl', 'rb')\n",
    "result_ss_mms_la, result_ss_mms_ra, result_ss_mms_lh, result_ss_mms_rh, result_so_mms_la, result_so_mms_ra, result_so_mms_lh, result_so_mms_rh, result_os_mms_la, result_os_mms_ra, result_os_mms_lh, result_os_mms_rh = pickle.load(\n",
    "    f_pw_uvs)\n",
    "\n",
    "results_pw_uvs = (result_ss_mms_la, result_ss_mms_ra, result_ss_mms_lh, result_ss_mms_rh, result_so_mms_la, result_so_mms_ra,\n",
    "                  result_so_mms_lh, result_so_mms_rh, result_os_mms_la, result_os_mms_ra, result_os_mms_lh, result_os_mms_rh)\n",
    "\n",
    "results_pw = [results_pw_mvs[i]+results_pw_uvs[i] for i in range(12)]"
   ]
  },
  {
   "cell_type": "code",
   "execution_count": 7,
   "metadata": {
    "ExecuteTime": {
     "end_time": "2022-02-19T12:50:19.413042Z",
     "start_time": "2022-02-19T12:50:08.060074Z"
    }
   },
   "outputs": [],
   "source": [
    "f_psc_mvs_1 = open('./log/ToM-MMS/mvs/PSC/results_1.pkl', 'rb')\n",
    "result_ss_mms_la_mvs_1, result_ss_mms_ra_mvs_1, result_ss_mms_lh_mvs_1, result_ss_mms_rh_mvs_1, \\\n",
    "result_so_mms_la_mvs_1, result_so_mms_ra_mvs_1, result_so_mms_lh_mvs_1, result_so_mms_rh_mvs_1, \\\n",
    "result_os_mms_la_mvs_1, result_os_mms_ra_mvs_1, result_os_mms_lh_mvs_1, result_os_mms_rh_mvs_1 = pickle.load(\n",
    "        f_psc_mvs_1)\n",
    "\n",
    "f_psc_mvs_2 = open('./log/ToM-MMS/mvs/PSC/results_2.pkl', 'rb')\n",
    "result_ss_mms_la_mvs_2, result_ss_mms_ra_mvs_2, result_ss_mms_lh_mvs_2, result_ss_mms_rh_mvs_2, \\\n",
    "result_so_mms_la_mvs_2, result_so_mms_ra_mvs_2, result_so_mms_lh_mvs_2, result_so_mms_rh_mvs_2, \\\n",
    "result_os_mms_la_mvs_2, result_os_mms_ra_mvs_2, result_os_mms_lh_mvs_2, result_os_mms_rh_mvs_2 = pickle.load(\n",
    "        f_psc_mvs_2)\n",
    "\n",
    "f_psc_mvs_3 = open('./log/ToM-MMS/mvs/PSC/results_3.pkl', 'rb')\n",
    "result_ss_mms_la_mvs_3, result_ss_mms_ra_mvs_3, result_ss_mms_lh_mvs_3, result_ss_mms_rh_mvs_3, \\\n",
    "result_so_mms_la_mvs_3, result_so_mms_ra_mvs_3, result_so_mms_lh_mvs_3, result_so_mms_rh_mvs_3, \\\n",
    "result_os_mms_la_mvs_3, result_os_mms_ra_mvs_3, result_os_mms_lh_mvs_3, result_os_mms_rh_mvs_3 = pickle.load(\n",
    "        f_psc_mvs_3)\n",
    "\n",
    "f_psc_mvs_4_1 = open('./log/ToM-MMS/mvs/PSC/results_4_1.pkl', 'rb')\n",
    "result_ss_mms_la_mvs_4_1, result_ss_mms_ra_mvs_4_1, result_ss_mms_lh_mvs_4_1, result_ss_mms_rh_mvs_4_1, \\\n",
    "result_so_mms_la_mvs_4_1, result_so_mms_ra_mvs_4_1, result_so_mms_lh_mvs_4_1, result_so_mms_rh_mvs_4_1, \\\n",
    "result_os_mms_la_mvs_4_1, result_os_mms_ra_mvs_4_1, result_os_mms_lh_mvs_4_1, result_os_mms_rh_mvs_4_1 = pickle.load(\n",
    "        f_psc_mvs_4_1)\n",
    "\n",
    "f_psc_mvs_4_2 = open('./log/ToM-MMS/mvs/PSC/results_4_2.pkl', 'rb')\n",
    "result_ss_mms_la_mvs_4_2, result_ss_mms_ra_mvs_4_2, result_ss_mms_lh_mvs_4_2, result_ss_mms_rh_mvs_4_2, \\\n",
    "result_so_mms_la_mvs_4_2, result_so_mms_ra_mvs_4_2, result_so_mms_lh_mvs_4_2, result_so_mms_rh_mvs_4_2, \\\n",
    "result_os_mms_la_mvs_4_2, result_os_mms_ra_mvs_4_2, result_os_mms_lh_mvs_4_2, result_os_mms_rh_mvs_4_2 = pickle.load(\n",
    "        f_psc_mvs_4_2)\n",
    "\n",
    "f_psc_mvs_5 = open('./log/ToM-MMS/mvs/PSC/results_5.pkl', 'rb')\n",
    "result_ss_mms_la_mvs_5, result_ss_mms_ra_mvs_5, result_ss_mms_lh_mvs_5, result_ss_mms_rh_mvs_5, \\\n",
    "result_so_mms_la_mvs_5, result_so_mms_ra_mvs_5, result_so_mms_lh_mvs_5, result_so_mms_rh_mvs_5, \\\n",
    "result_os_mms_la_mvs_5, result_os_mms_ra_mvs_5, result_os_mms_lh_mvs_5, result_os_mms_rh_mvs_5 = pickle.load(\n",
    "        f_psc_mvs_5)\n",
    "\n",
    "results_psc_mvs = (\n",
    "    result_ss_mms_la_mvs_1+result_ss_mms_la_mvs_2+result_ss_mms_la_mvs_3+result_ss_mms_la_mvs_4_1+result_ss_mms_la_mvs_4_2+result_ss_mms_la_mvs_5,\n",
    "    result_ss_mms_ra_mvs_1+result_ss_mms_ra_mvs_2+result_ss_mms_ra_mvs_3+result_ss_mms_ra_mvs_4_1+result_ss_mms_ra_mvs_4_2+result_ss_mms_ra_mvs_5,\n",
    "    result_ss_mms_lh_mvs_1+result_ss_mms_lh_mvs_2+result_ss_mms_lh_mvs_3+result_ss_mms_lh_mvs_4_1+result_ss_mms_lh_mvs_4_2+result_ss_mms_lh_mvs_5,\n",
    "    result_ss_mms_rh_mvs_1+result_ss_mms_rh_mvs_2+result_ss_mms_rh_mvs_3+result_ss_mms_rh_mvs_4_1+result_ss_mms_rh_mvs_4_2+result_ss_mms_rh_mvs_5,\n",
    "    result_so_mms_la_mvs_1+result_so_mms_la_mvs_2+result_so_mms_la_mvs_3+result_so_mms_la_mvs_4_1+result_so_mms_la_mvs_4_2+result_so_mms_la_mvs_5,\n",
    "    result_so_mms_ra_mvs_1+result_so_mms_ra_mvs_2+result_so_mms_ra_mvs_3+result_so_mms_ra_mvs_4_1+result_so_mms_ra_mvs_4_2+result_so_mms_ra_mvs_5,\n",
    "    result_so_mms_lh_mvs_1+result_so_mms_lh_mvs_2+result_so_mms_lh_mvs_3+result_so_mms_lh_mvs_4_1+result_so_mms_lh_mvs_4_2+result_so_mms_lh_mvs_5,\n",
    "    result_so_mms_rh_mvs_1+result_so_mms_rh_mvs_2+result_so_mms_rh_mvs_3+result_so_mms_rh_mvs_4_1+result_so_mms_rh_mvs_4_2+result_so_mms_rh_mvs_5,\n",
    "    result_os_mms_la_mvs_1+result_os_mms_la_mvs_2+result_os_mms_la_mvs_3+result_os_mms_la_mvs_4_1+result_os_mms_la_mvs_4_2+result_os_mms_la_mvs_5,\n",
    "    result_os_mms_ra_mvs_1+result_os_mms_ra_mvs_2+result_os_mms_ra_mvs_3+result_os_mms_ra_mvs_4_1+result_os_mms_ra_mvs_4_2+result_os_mms_ra_mvs_5,\n",
    "    result_os_mms_lh_mvs_1+result_os_mms_lh_mvs_2+result_os_mms_lh_mvs_3+result_os_mms_lh_mvs_4_1+result_os_mms_lh_mvs_4_2+result_os_mms_lh_mvs_5,\n",
    "    result_os_mms_rh_mvs_1+result_os_mms_rh_mvs_2+result_os_mms_rh_mvs_3+result_os_mms_rh_mvs_4_1+result_os_mms_rh_mvs_4_2+result_os_mms_rh_mvs_5)\n",
    "\n",
    "f_psc_uvs_1 = open('./log/ToM-MMS/uvs/PSC/results_1.pkl', 'rb')\n",
    "result_ss_mms_la_uvs_1, result_ss_mms_ra_uvs_1, result_ss_mms_lh_uvs_1, result_ss_mms_rh_uvs_1, \\\n",
    "    result_so_mms_la_uvs_1, result_so_mms_ra_uvs_1, result_so_mms_lh_uvs_1, result_so_mms_rh_uvs_1, \\\n",
    "    result_os_mms_la_uvs_1, result_os_mms_ra_uvs_1, result_os_mms_lh_uvs_1, result_os_mms_rh_uvs_1 = pickle.load(\n",
    "        f_psc_uvs_1)\n",
    "\n",
    "f_psc_uvs_2 = open('./log/ToM-MMS/uvs/PSC/results_2.pkl', 'rb')\n",
    "result_ss_mms_la_uvs_2, result_ss_mms_ra_uvs_2, result_ss_mms_lh_uvs_2, result_ss_mms_rh_uvs_2, \\\n",
    "    result_so_mms_la_uvs_2, result_so_mms_ra_uvs_2, result_so_mms_lh_uvs_2, result_so_mms_rh_uvs_2, \\\n",
    "    result_os_mms_la_uvs_2, result_os_mms_ra_uvs_2, result_os_mms_lh_uvs_2, result_os_mms_rh_uvs_2 = pickle.load(\n",
    "        f_psc_uvs_2)\n",
    "\n",
    "f_psc_uvs_3 = open('./log/ToM-MMS/uvs/PSC/results_3.pkl', 'rb')\n",
    "result_ss_mms_la_uvs_3, result_ss_mms_ra_uvs_3, result_ss_mms_lh_uvs_3, result_ss_mms_rh_uvs_3, \\\n",
    "    result_so_mms_la_uvs_3, result_so_mms_ra_uvs_3, result_so_mms_lh_uvs_3, result_so_mms_rh_uvs_3, \\\n",
    "    result_os_mms_la_uvs_3, result_os_mms_ra_uvs_3, result_os_mms_lh_uvs_3, result_os_mms_rh_uvs_3 = pickle.load(\n",
    "        f_psc_uvs_3)\n",
    "\n",
    "f_psc_uvs_4 = open('./log/ToM-MMS/uvs/PSC/results_4.pkl', 'rb')\n",
    "result_ss_mms_la_uvs_4, result_ss_mms_ra_uvs_4, result_ss_mms_lh_uvs_4, result_ss_mms_rh_uvs_4, \\\n",
    "    result_so_mms_la_uvs_4, result_so_mms_ra_uvs_4, result_so_mms_lh_uvs_4, result_so_mms_rh_uvs_4, \\\n",
    "    result_os_mms_la_uvs_4, result_os_mms_ra_uvs_4, result_os_mms_lh_uvs_4, result_os_mms_rh_uvs_4 = pickle.load(\n",
    "        f_psc_uvs_4)\n",
    "\n",
    "f_psc_uvs_5 = open('./log/ToM-MMS/uvs/PSC/results_5.pkl', 'rb')\n",
    "result_ss_mms_la_uvs_5, result_ss_mms_ra_uvs_5, result_ss_mms_lh_uvs_5, result_ss_mms_rh_uvs_5, \\\n",
    "    result_so_mms_la_uvs_5, result_so_mms_ra_uvs_5, result_so_mms_lh_uvs_5, result_so_mms_rh_uvs_5, \\\n",
    "    result_os_mms_la_uvs_5, result_os_mms_ra_uvs_5, result_os_mms_lh_uvs_5, result_os_mms_rh_uvs_5 = pickle.load(\n",
    "        f_psc_uvs_5)\n",
    "\n",
    "results_psc_uvs = (\n",
    "    result_ss_mms_la_uvs_1+result_ss_mms_la_uvs_2+result_ss_mms_la_uvs_3+result_ss_mms_la_uvs_4+result_ss_mms_la_uvs_5,\n",
    "    result_ss_mms_ra_uvs_1+result_ss_mms_ra_uvs_2+result_ss_mms_ra_uvs_3+result_ss_mms_ra_uvs_4+result_ss_mms_ra_uvs_5,\n",
    "    result_ss_mms_lh_uvs_1+result_ss_mms_lh_uvs_2+result_ss_mms_lh_uvs_3+result_ss_mms_lh_uvs_4+result_ss_mms_lh_uvs_5,\n",
    "    result_ss_mms_rh_uvs_1+result_ss_mms_rh_uvs_2+result_ss_mms_rh_uvs_3+result_ss_mms_rh_uvs_4+result_ss_mms_rh_uvs_5,\n",
    "    result_so_mms_la_uvs_1+result_so_mms_la_uvs_2+result_so_mms_la_uvs_3+result_so_mms_la_uvs_4+result_so_mms_la_uvs_5,\n",
    "    result_so_mms_ra_uvs_1+result_so_mms_ra_uvs_2+result_so_mms_ra_uvs_3+result_so_mms_ra_uvs_4+result_so_mms_ra_uvs_5,\n",
    "    result_so_mms_lh_uvs_1+result_so_mms_lh_uvs_2+result_so_mms_lh_uvs_3+result_so_mms_lh_uvs_4+result_so_mms_lh_uvs_5,\n",
    "    result_so_mms_rh_uvs_1+result_so_mms_rh_uvs_2+result_so_mms_rh_uvs_3+result_so_mms_rh_uvs_4+result_so_mms_rh_uvs_5,\n",
    "    result_os_mms_la_uvs_1+result_os_mms_la_uvs_2+result_os_mms_la_uvs_3+result_os_mms_la_uvs_4+result_os_mms_la_uvs_5,\n",
    "    result_os_mms_ra_uvs_1+result_os_mms_ra_uvs_2+result_os_mms_ra_uvs_3+result_os_mms_ra_uvs_4+result_os_mms_ra_uvs_5,\n",
    "    result_os_mms_lh_uvs_1+result_os_mms_lh_uvs_2+result_os_mms_lh_uvs_3+result_os_mms_lh_uvs_4+result_os_mms_lh_uvs_5,\n",
    "    result_os_mms_rh_uvs_1+result_os_mms_rh_uvs_2+result_os_mms_rh_uvs_3+result_os_mms_rh_uvs_4+result_os_mms_rh_uvs_5\n",
    ")\n",
    "\n",
    "results_psc = [results_psc_mvs[i]+results_psc_uvs[i] for i in range(12)]"
   ]
  },
  {
   "cell_type": "code",
   "execution_count": 8,
   "metadata": {
    "ExecuteTime": {
     "end_time": "2022-02-19T12:51:08.431288Z",
     "start_time": "2022-02-19T12:51:08.255652Z"
    }
   },
   "outputs": [],
   "source": [
    "f_mvs = open('./log/ToM-rsFC/mvs/results.pkl', 'rb')\n",
    "result_ss_rsfc_la_mvs, result_ss_rsfc_ra_mvs, result_ss_rsfc_lh_mvs, result_ss_rsfc_rh_mvs, \\\n",
    "result_so_rsfc_la_mvs, result_so_rsfc_ra_mvs, result_so_rsfc_lh_mvs, result_so_rsfc_rh_mvs, \\\n",
    "result_os_rsfc_la_mvs, result_os_rsfc_ra_mvs, result_os_rsfc_lh_mvs, result_os_rsfc_rh_mvs = pickle.load(\n",
    "    f_mvs)\n",
    "\n",
    "f_uvs = open('./log/ToM-rsFC/uvs/results.pkl', 'rb')\n",
    "result_ss_rsfc_la_uvs, result_ss_rsfc_ra_uvs, result_ss_rsfc_lh_uvs, result_ss_rsfc_rh_uvs, \\\n",
    "result_so_rsfc_la_uvs, result_so_rsfc_ra_uvs, result_so_rsfc_lh_uvs, result_so_rsfc_rh_uvs, \\\n",
    "result_os_rsfc_la_uvs, result_os_rsfc_ra_uvs, result_os_rsfc_lh_uvs, result_os_rsfc_rh_uvs = pickle.load(\n",
    "    f_uvs)"
   ]
  },
  {
   "cell_type": "code",
   "execution_count": 9,
   "metadata": {
    "ExecuteTime": {
     "end_time": "2022-02-19T12:51:14.676814Z",
     "start_time": "2022-02-19T12:51:14.658957Z"
    }
   },
   "outputs": [],
   "source": [
    "results_mms = [results_np[i]+results_p[i]+results_pw[i]+results_psc[i] for i in range(12)]\n",
    "results_rsfc = (\n",
    "    result_ss_rsfc_la_mvs+result_ss_rsfc_la_uvs,\n",
    "    result_ss_rsfc_ra_mvs+result_ss_rsfc_ra_uvs,\n",
    "    result_ss_rsfc_lh_mvs+result_ss_rsfc_lh_uvs,\n",
    "    result_ss_rsfc_rh_mvs+result_ss_rsfc_rh_uvs,\n",
    "    result_so_rsfc_la_mvs+result_so_rsfc_la_uvs,\n",
    "    result_so_rsfc_ra_mvs+result_so_rsfc_ra_uvs,\n",
    "    result_so_rsfc_lh_mvs+result_so_rsfc_lh_uvs,\n",
    "    result_so_rsfc_rh_mvs+result_so_rsfc_rh_uvs,\n",
    "    result_os_rsfc_la_mvs+result_os_rsfc_la_uvs,\n",
    "    result_os_rsfc_ra_mvs+result_os_rsfc_ra_uvs,\n",
    "    result_os_rsfc_lh_mvs+result_os_rsfc_lh_uvs,\n",
    "    result_os_rsfc_rh_mvs+result_os_rsfc_rh_uvs\n",
    ")"
   ]
  },
  {
   "cell_type": "code",
   "execution_count": 10,
   "metadata": {
    "ExecuteTime": {
     "end_time": "2022-02-19T12:51:20.074738Z",
     "start_time": "2022-02-19T12:51:20.037820Z"
    }
   },
   "outputs": [],
   "source": [
    "parameters_mms, combination_mms, parameters_rsfc, combination_rsfc, titles = [], [], [], [], []\n",
    "\n",
    "for dsf_x in DSF_X_mvs+DSF_X_uvs:\n",
    "    for dsf_y in [\n",
    "            'pearson', 'euclidean', 'cosine', 'manhattan'\n",
    "    ]:\n",
    "        parameters_mms.append((dsf_x, dsf_y, None))\n",
    "\n",
    "for dsf_x in DSF_X_mvs+DSF_X_uvs:\n",
    "    for dsf_y in ['pearson', 'euclidean', 'mahalanobis', 'cosine', 'manhattan']:\n",
    "        for P in [True]:\n",
    "            for PS in [(5, 5), (10, 10), (25, 25), (50, 50)]:\n",
    "                for PM in ['max', 'mean', 'min', 'max-mean', 'max-min', 'mean-min', 'mmm']:\n",
    "                    for SC in [None]:\n",
    "\n",
    "                        mms = P, PS, PM, SC\n",
    "                        parameters_mms.append((dsf_x, dsf_y, mms))\n",
    "                        \n",
    "for dsf_x in DSF_X_mvs+DSF_X_uvs:\n",
    "    for dsf_y in ['wrd', 'wmd']:\n",
    "        for P in [True]:\n",
    "            for PS in [(25, 25), (50, 50)]:\n",
    "                for PM in [None, 'max', 'mean', 'min', 'max-mean', 'max-min', 'mean-min', 'mmm']:\n",
    "                    for SC in [None]:\n",
    "\n",
    "                        mms = P, PS, PM, SC\n",
    "                        parameters_mms.append((dsf_x, dsf_y, mms))\n",
    "                        \n",
    "for dsf_x in ['pearson', 'euclidean', 'mahalanobis']:\n",
    "    for dsf_y in ['pearson', 'euclidean', 'mahalanobis', 'cosine', 'manhattan']:\n",
    "        for P in [True]:\n",
    "            for PS in [(25, 25), (50, 50)]:\n",
    "                for PM in [None, 'max', 'mean', 'min', 'max-mean', 'max-min', 'mean-min', 'mmm']:\n",
    "                    for SC in ['pearson', 'euclidean', 'mahalanobis', 'cosine', 'manhattan']:\n",
    "\n",
    "                        mms = P, PS, PM, SC\n",
    "                        parameters_mms.append((dsf_x, dsf_y, mms))\n",
    "                        \n",
    "for dsf_x in ['cosine']:\n",
    "    for dsf_y in ['pearson', 'euclidean', 'mahalanobis', 'cosine', 'manhattan']:\n",
    "        for P in [True]:\n",
    "            for PS in [(25, 25)]:\n",
    "                for PM in [None, 'max', 'mean', 'min', 'max-mean', 'max-min', 'mean-min', 'mmm']:\n",
    "                    for SC in ['pearson', 'euclidean', 'mahalanobis', 'cosine', 'manhattan']:\n",
    "\n",
    "                        mms = P, PS, PM, SC\n",
    "                        parameters_mms.append((dsf_x, dsf_y, mms))\n",
    "                        \n",
    "for dsf_x in ['cosine']:\n",
    "    for dsf_y in ['pearson', 'euclidean', 'mahalanobis', 'cosine', 'manhattan']:\n",
    "        for P in [True]:\n",
    "            for PS in [(50, 50)]:\n",
    "                for PM in [None, 'max', 'mean', 'min', 'max-mean', 'max-min', 'mean-min', 'mmm']:\n",
    "                    for SC in ['pearson', 'euclidean', 'mahalanobis', 'cosine', 'manhattan']:\n",
    "\n",
    "                        mms = P, PS, PM, SC\n",
    "                        parameters_mms.append((dsf_x, dsf_y, mms))\n",
    "                        \n",
    "for dsf_x in ['manhattan']:\n",
    "    for dsf_y in ['pearson', 'euclidean', 'mahalanobis', 'cosine', 'manhattan']:\n",
    "        for P in [True]:\n",
    "            for PS in [(25, 25), (50, 50)]:\n",
    "                for PM in [None, 'max', 'mean', 'min', 'max-mean', 'max-min', 'mean-min', 'mmm']:\n",
    "                    for SC in ['pearson', 'euclidean', 'mahalanobis', 'cosine', 'manhattan']:\n",
    "\n",
    "                        mms = P, PS, PM, SC\n",
    "                        parameters_mms.append((dsf_x, dsf_y, mms))\n",
    "                        \n",
    "for dsf_x in DSF_X_uvs:\n",
    "    for dsf_y in ['pearson', 'euclidean', 'mahalanobis', 'cosine', 'manhattan']:\n",
    "        for P in [True]:\n",
    "            for PS in [(25, 25), (50, 50)]:\n",
    "                for PM in [None, 'max', 'mean', 'min', 'max-mean', 'max-min', 'mean-min', 'mmm']:\n",
    "                    for SC in ['pearson', 'euclidean', 'mahalanobis', 'cosine', 'manhattan']:\n",
    "\n",
    "                        mms = P, PS, PM, SC\n",
    "                        parameters_mms.append((dsf_x, dsf_y, mms))\n",
    "                        \n",
    "for dsf_x in DSF_X_mvs+DSF_X_uvs:\n",
    "    for dsf_y in [\n",
    "            'pearson', 'euclidean', 'mahalanobis', 'cosine', 'manhattan'\n",
    "    ]:\n",
    "        parameters_rsfc.append((dsf_x, dsf_y))\n",
    "\n",
    "for x in [(SS_mvs, SS_uvs), (SO_mvs, SO_uvs), (OS_mvs, OS_uvs)]:\n",
    "    for y in [mms_la, mms_ra, mms_lh, mms_rh]:\n",
    "        combination_mms.append((x, y))\n",
    "    for z in [rsfc_la, rsfc_ra, rsfc_lh, rsfc_rh]:\n",
    "        combination_rsfc.append((x, z))\n",
    "\n",
    "for imq in ['SS', 'SO', 'OS']:\n",
    "    for roi in ['LA', 'RA', 'LH', 'RH']:\n",
    "        titles.append(imq+'-'+roi)"
   ]
  },
  {
   "cell_type": "code",
   "execution_count": 11,
   "metadata": {
    "ExecuteTime": {
     "end_time": "2022-02-19T12:52:02.488500Z",
     "start_time": "2022-02-19T12:51:37.601880Z"
    }
   },
   "outputs": [
    {
     "name": "stdout",
     "output_type": "stream",
     "text": [
      "SS-LA: 0.1207 achieved by pearson-cosine-50-max 0.1196\n",
      "SS-RA: 0.1914 achieved by pearson-wrd-50-max 0.1836\n",
      "SS-LH: 0.2868 achieved by pearson-manhattan-50-mean 0.2813\n",
      "SS-RH: 0.3978 achieved by pearson-mahalanobis-25-max-min 0.3552\n",
      "SO-LA: 0.1866 achieved by pearson-cosine-50-min 0.1685\n",
      "SO-RA: 0.0628 achieved by pearson-pearson-50-min 0.0651\n",
      "SO-LH: 0.2609 achieved by pearson-mahalanobis-50-None 0.2466\n",
      "SO-RH: 0.2227 achieved by pearson-mahalanobis-50-None 0.1972\n",
      "OS-LA: 0.0830 achieved by pearson-cosine-25-min 0.0801\n",
      "OS-RA: 0.1651 achieved by pearson-euclidean-25-min 0.1585\n",
      "OS-LH: 0.1486 achieved by pearson-mahalanobis-50-max-min 0.1297\n",
      "OS-RH: 0.1902 achieved by pearson-mahalanobis-50-max 0.1632\n",
      "------------------------------------------------\n",
      "SS-LA: 0.1852 achieved by pearson-cosine 0.1783\n",
      "SS-RA: 0.0417 achieved by pearson-pearson 0.0478\n",
      "SS-LH: -0.1143 achieved by pearson-mahalanobis -0.1206\n",
      "SS-RH: 0.0295 achieved by pearson-cosine 0.0287\n",
      "SO-LA: -0.0204 achieved by pearson-cosine -0.0230\n",
      "SO-RA: 0.1505 achieved by pearson-cosine 0.1350\n",
      "SO-LH: 0.2383 achieved by pearson-cosine 0.2254\n",
      "SO-RH: 0.2580 achieved by pearson-pearson 0.2427\n",
      "OS-LA: 0.1060 achieved by pearson-cosine 0.1016\n",
      "OS-RA: 0.1587 achieved by pearson-cosine 0.1497\n",
      "OS-LH: 0.2345 achieved by pearson-cosine 0.2165\n",
      "OS-RH: 0.0508 achieved by pearson-pearson 0.0436\n"
     ]
    }
   ],
   "source": [
    "model_selection(results_mms, results_rsfc, (DSF_X_mvs+DSF_X_uvs)[0], combination_mms, combination_rsfc, parameters_mms, parameters_rsfc, titles)"
   ]
  },
  {
   "cell_type": "code",
   "execution_count": 12,
   "metadata": {
    "ExecuteTime": {
     "end_time": "2022-02-19T12:53:02.079038Z",
     "start_time": "2022-02-19T12:52:34.712310Z"
    }
   },
   "outputs": [
    {
     "name": "stdout",
     "output_type": "stream",
     "text": [
      "SS-LA: 0.2305 achieved by euclidean-cosine-25-None 0.2180\n",
      "SS-RA: 0.4228 achieved by euclidean-pearson-25-max-min 0.3947\n",
      "SS-LH: 0.4347 achieved by euclidean-pearson-50-max 0.4127\n",
      "SS-RH: 0.3330 achieved by euclidean-pearson-50-None 0.3201\n",
      "SO-LA: 0.2783 achieved by euclidean-wrd-25-None 0.2707\n",
      "SO-RA: 0.4030 achieved by euclidean-pearson-25-max 0.3821\n",
      "SO-LH: 0.3621 achieved by euclidean-pearson-25-max-min 0.3413\n",
      "SO-RH: 0.4541 achieved by euclidean-cosine-50-None 0.4196\n",
      "OS-LA: 0.1861 achieved by euclidean-euclidean-25-min 0.1814\n",
      "OS-RA: 0.5292 achieved by euclidean-pearson-25-max 0.5014\n",
      "OS-LH: 0.2518 achieved by euclidean-mahalanobis-50-None 0.2373\n",
      "OS-RH: 0.4190 achieved by euclidean-manhattan-25-max-min 0.3982\n",
      "------------------------------------------------\n",
      "SS-LA: 0.1588 achieved by euclidean-pearson 0.1539\n",
      "SS-RA: 0.1245 achieved by euclidean-pearson 0.1217\n",
      "SS-LH: 0.0382 achieved by euclidean-cosine 0.0381\n",
      "SS-RH: 0.1315 achieved by euclidean-mahalanobis 0.1228\n",
      "SO-LA: 0.1304 achieved by euclidean-pearson 0.1239\n",
      "SO-RA: 0.1021 achieved by euclidean-pearson 0.1025\n",
      "SO-LH: 0.0101 achieved by euclidean-cosine 0.0163\n",
      "SO-RH: -0.1087 achieved by euclidean-mahalanobis -0.1215\n",
      "OS-LA: 0.3344 achieved by euclidean-cosine 0.3164\n",
      "OS-RA: 0.2076 achieved by euclidean-pearson 0.1902\n",
      "OS-LH: 0.2761 achieved by euclidean-cosine 0.2587\n",
      "OS-RH: 0.0909 achieved by euclidean-cosine 0.0729\n"
     ]
    }
   ],
   "source": [
    "model_selection(results_mms, results_rsfc, (DSF_X_mvs+DSF_X_uvs)[1], combination_mms, combination_rsfc, parameters_mms, parameters_rsfc, titles)"
   ]
  },
  {
   "cell_type": "code",
   "execution_count": 13,
   "metadata": {
    "ExecuteTime": {
     "end_time": "2022-02-19T12:54:29.044568Z",
     "start_time": "2022-02-19T12:53:47.150510Z"
    }
   },
   "outputs": [
    {
     "name": "stdout",
     "output_type": "stream",
     "text": [
      "SS-LA: 0.2329 achieved by mahalanobis-cosine-25-None 0.2167\n",
      "SS-RA: 0.2864 achieved by mahalanobis-wrd-25-mean-min 0.2868\n",
      "SS-LH: 0.3574 achieved by mahalanobis-pearson-50-max 0.3536\n",
      "SS-RH: 0.2873 achieved by mahalanobis-manhattan-50-None 0.2776\n",
      "SO-LA: 0.2842 achieved by mahalanobis-wrd-25-None 0.2653\n",
      "SO-RA: 0.3628 achieved by mahalanobis-pearson-25-max 0.3369\n",
      "SO-LH: 0.4026 achieved by mahalanobis-pearson-25-max-min 0.3694\n",
      "SO-RH: 0.4320 achieved by mahalanobis-pearson-25-max-min 0.3966\n",
      "OS-LA: 0.1737 achieved by mahalanobis-euclidean-25-min 0.1702\n",
      "OS-RA: 0.5627 achieved by mahalanobis-pearson-25-max 0.5153\n",
      "OS-LH: 0.2625 achieved by mahalanobis-mahalanobis-50-None 0.2507\n",
      "OS-RH: 0.4049 achieved by mahalanobis-pearson-25-mmm 0.3809\n",
      "------------------------------------------------\n",
      "SS-LA: 0.1950 achieved by mahalanobis-pearson 0.1686\n",
      "SS-RA: 0.2025 achieved by mahalanobis-pearson 0.1747\n",
      "SS-LH: 0.0899 achieved by mahalanobis-pearson 0.0643\n",
      "SS-RH: 0.1574 achieved by mahalanobis-mahalanobis 0.1487\n",
      "SO-LA: 0.0930 achieved by mahalanobis-pearson 0.0895\n",
      "SO-RA: 0.0554 achieved by mahalanobis-pearson 0.0548\n",
      "SO-LH: -0.0312 achieved by mahalanobis-pearson -0.0254\n",
      "SO-RH: -0.1111 achieved by mahalanobis-mahalanobis -0.1051\n",
      "OS-LA: 0.3118 achieved by mahalanobis-cosine 0.2982\n",
      "OS-RA: 0.1844 achieved by mahalanobis-cosine 0.1705\n",
      "OS-LH: 0.2274 achieved by mahalanobis-cosine 0.2259\n",
      "OS-RH: 0.0900 achieved by mahalanobis-cosine 0.0749\n"
     ]
    }
   ],
   "source": [
    "model_selection(results_mms, results_rsfc, (DSF_X_mvs+DSF_X_uvs)[2], combination_mms, combination_rsfc, parameters_mms, parameters_rsfc, titles)"
   ]
  },
  {
   "cell_type": "code",
   "execution_count": 14,
   "metadata": {
    "ExecuteTime": {
     "end_time": "2022-02-19T12:55:08.859132Z",
     "start_time": "2022-02-19T12:54:59.036737Z"
    }
   },
   "outputs": [
    {
     "name": "stdout",
     "output_type": "stream",
     "text": [
      "SS-LA: 0.1733 achieved by cosine-cosine-25-mean 0.1633\n",
      "SS-RA: 0.3684 achieved by cosine-pearson-25-min 0.3423\n",
      "SS-LH: 0.3403 achieved by cosine-manhattan-50-min 0.3280\n",
      "SS-RH: 0.2174 achieved by cosine-cosine-50-mean 0.1888\n",
      "SO-LA: 0.2472 achieved by cosine-wrd-50-max-min 0.2349\n",
      "SO-RA: 0.2286 achieved by cosine-manhattan-25-max 0.2092\n",
      "SO-LH: 0.3206 achieved by cosine-mahalanobis-50-None 0.2869\n",
      "SO-RH: 0.3684 achieved by cosine-cosine-50-None 0.3415\n",
      "OS-LA: 0.2707 achieved by cosine-euclidean-25-mean-min 0.2513\n",
      "OS-RA: 0.2464 achieved by cosine-cosine-25-max 0.2387\n",
      "OS-LH: 0.3762 achieved by cosine-euclidean-50-None 0.3548\n",
      "OS-RH: 0.4763 achieved by cosine-manhattan-50-max-mean 0.4433\n",
      "------------------------------------------------\n",
      "SS-LA: 0.0764 achieved by cosine-pearson 0.0718\n",
      "SS-RA: 0.0292 achieved by cosine-pearson 0.0222\n",
      "SS-LH: 0.0964 achieved by cosine-cosine 0.0960\n",
      "SS-RH: 0.0879 achieved by cosine-cosine 0.0798\n",
      "SO-LA: 0.0660 achieved by cosine-cosine 0.0584\n",
      "SO-RA: 0.0552 achieved by cosine-cosine 0.0482\n",
      "SO-LH: 0.0916 achieved by cosine-cosine 0.0885\n",
      "SO-RH: -0.1000 achieved by cosine-cosine -0.1010\n",
      "OS-LA: 0.2306 achieved by cosine-euclidean 0.2241\n",
      "OS-RA: 0.2630 achieved by cosine-mahalanobis 0.2409\n",
      "OS-LH: 0.0751 achieved by cosine-pearson 0.0632\n",
      "OS-RH: 0.0560 achieved by cosine-pearson 0.0468\n"
     ]
    }
   ],
   "source": [
    "model_selection(results_mms, results_rsfc, (DSF_X_mvs+DSF_X_uvs)[3], combination_mms, combination_rsfc, parameters_mms, parameters_rsfc, titles)"
   ]
  },
  {
   "cell_type": "code",
   "execution_count": 15,
   "metadata": {
    "ExecuteTime": {
     "end_time": "2022-02-19T12:56:08.551403Z",
     "start_time": "2022-02-19T12:55:41.479486Z"
    }
   },
   "outputs": [
    {
     "name": "stdout",
     "output_type": "stream",
     "text": [
      "SS-LA: 0.2213 achieved by manhattan-cosine-25-None 0.2059\n",
      "SS-RA: 0.4112 achieved by manhattan-pearson-25-max-min 0.3786\n",
      "SS-LH: 0.3998 achieved by manhattan-pearson-50-max 0.3771\n",
      "SS-RH: 0.3221 achieved by manhattan-cosine-50-None 0.3105\n",
      "SO-LA: 0.3087 achieved by manhattan-wrd-25-None 0.3012\n",
      "SO-RA: 0.3881 achieved by manhattan-pearson-25-max 0.3694\n",
      "SO-LH: 0.3698 achieved by manhattan-pearson-25-max-min 0.3489\n",
      "SO-RH: 0.4626 achieved by manhattan-manhattan-50-mean-min 0.4355\n",
      "OS-LA: 0.1620 achieved by manhattan-euclidean-25-min 0.1631\n",
      "OS-RA: 0.5185 achieved by manhattan-pearson-25-max 0.4850\n",
      "OS-LH: 0.2564 achieved by manhattan-euclidean-50-None 0.2489\n",
      "OS-RH: 0.4135 achieved by manhattan-pearson-25-mmm 0.3859\n",
      "------------------------------------------------\n",
      "SS-LA: 0.1400 achieved by manhattan-pearson 0.1292\n",
      "SS-RA: 0.1151 achieved by manhattan-pearson 0.1079\n",
      "SS-LH: 0.0472 achieved by manhattan-cosine 0.0412\n",
      "SS-RH: 0.1202 achieved by manhattan-mahalanobis 0.1095\n",
      "SO-LA: 0.1166 achieved by manhattan-pearson 0.1090\n",
      "SO-RA: 0.0792 achieved by manhattan-pearson 0.0781\n",
      "SO-LH: -0.0315 achieved by manhattan-cosine -0.0270\n",
      "SO-RH: -0.0885 achieved by manhattan-mahalanobis -0.1052\n",
      "OS-LA: 0.3354 achieved by manhattan-cosine 0.3117\n",
      "OS-RA: 0.2037 achieved by manhattan-pearson 0.1854\n",
      "OS-LH: 0.2655 achieved by manhattan-cosine 0.2475\n",
      "OS-RH: 0.1107 achieved by manhattan-cosine 0.0905\n"
     ]
    }
   ],
   "source": [
    "model_selection(results_mms, results_rsfc, (DSF_X_mvs+DSF_X_uvs)[4], combination_mms, combination_rsfc, parameters_mms, parameters_rsfc, titles)"
   ]
  },
  {
   "cell_type": "code",
   "execution_count": 16,
   "metadata": {
    "ExecuteTime": {
     "end_time": "2022-02-19T12:56:38.394058Z",
     "start_time": "2022-02-19T12:56:33.678769Z"
    }
   },
   "outputs": [
    {
     "name": "stdout",
     "output_type": "stream",
     "text": [
      "SS-LA: 0.1381 achieved by abs-pearson-25-max 0.2114\n",
      "SS-RA: 0.0978 achieved by abs-pearson-25-max 0.1306\n",
      "SS-LH: 0.2219 achieved by abs-cosine-50-max 0.2513\n",
      "SS-RH: 0.2537 achieved by abs-manhattan-50-None 0.3218\n",
      "SO-LA: 0.2496 achieved by abs-manhattan-50-None 0.2936\n",
      "SO-RA: 0.1595 achieved by abs-pearson-50-mean 0.2644\n",
      "SO-LH: 0.2621 achieved by abs-pearson-50-None 0.3582\n",
      "SO-RH: 0.2948 achieved by abs-manhattan-50-None 0.4102\n",
      "OS-LA: 0.2397 achieved by abs-manhattan-25-min 0.2320\n",
      "OS-RA: 0.2263 achieved by abs-pearson-50-None 0.4282\n",
      "OS-LH: 0.2311 achieved by abs-mahalanobis-50-None 0.2260\n",
      "OS-RH: 0.2471 achieved by abs-pearson-25-max 0.3469\n",
      "------------------------------------------------\n",
      "SS-LA: 0.1401 achieved by abs-pearson 0.1273\n",
      "SS-RA: 0.1315 achieved by abs-pearson 0.1242\n",
      "SS-LH: 0.0525 achieved by abs-pearson 0.0506\n",
      "SS-RH: 0.1034 achieved by abs-mahalanobis 0.1077\n",
      "SO-LA: -0.0146 achieved by abs-pearson -0.0131\n",
      "SO-RA: 0.0330 achieved by abs-mahalanobis 0.0265\n",
      "SO-LH: -0.0985 achieved by abs-mahalanobis -0.0996\n",
      "SO-RH: -0.0487 achieved by abs-mahalanobis -0.0566\n",
      "OS-LA: 0.0896 achieved by abs-euclidean 0.0866\n",
      "OS-RA: 0.1416 achieved by abs-mahalanobis 0.1387\n",
      "OS-LH: 0.0964 achieved by abs-cosine 0.0911\n",
      "OS-RH: 0.0002 achieved by abs-manhattan -0.0036\n"
     ]
    }
   ],
   "source": [
    "model_selection(results_mms, results_rsfc, (DSF_X_mvs+DSF_X_uvs)[5], combination_mms, combination_rsfc, parameters_mms, parameters_rsfc, titles)"
   ]
  },
  {
   "cell_type": "code",
   "execution_count": 17,
   "metadata": {
    "ExecuteTime": {
     "end_time": "2022-02-19T12:57:11.166388Z",
     "start_time": "2022-02-19T12:57:00.932924Z"
    }
   },
   "outputs": [
    {
     "name": "stdout",
     "output_type": "stream",
     "text": [
      "SS-LA: 0.1010 achieved by mean-pearson-50-min 0.0983\n",
      "SS-RA: 0.1591 achieved by mean-pearson-50-max-min 0.1535\n",
      "SS-LH: 0.1850 achieved by mean-mahalanobis-50-max 0.1770\n",
      "SS-RH: 0.0321 achieved by mean-cosine-50-max 0.0331\n",
      "SO-LA: 0.3636 achieved by mean-wrd-50-max 0.3457\n",
      "SO-RA: 0.1549 achieved by mean-pearson-50-max-min 0.1561\n",
      "SO-LH: 0.4254 achieved by mean-mahalanobis-50-mmm 0.3932\n",
      "SO-RH: 0.0808 achieved by mean-cosine-50-None 0.0747\n",
      "OS-LA: 0.2415 achieved by mean-cosine-25-min 0.2330\n",
      "OS-RA: 0.2002 achieved by mean-pearson-50-max 0.1971\n",
      "OS-LH: 0.3229 achieved by mean-pearson-50-min 0.3002\n",
      "OS-RH: 0.3320 achieved by mean-manhattan-25-max-min 0.3180\n",
      "------------------------------------------------\n",
      "SS-LA: 0.1326 achieved by mean-cosine 0.1284\n",
      "SS-RA: 0.1546 achieved by mean-cosine 0.1460\n",
      "SS-LH: 0.0806 achieved by mean-cosine 0.0813\n",
      "SS-RH: -0.1424 achieved by mean-cosine -0.1323\n",
      "SO-LA: 0.0046 achieved by mean-cosine 0.0006\n",
      "SO-RA: 0.0423 achieved by mean-cosine 0.0330\n",
      "SO-LH: -0.0935 achieved by mean-cosine -0.0931\n",
      "SO-RH: 0.0262 achieved by mean-cosine 0.0144\n",
      "OS-LA: 0.2021 achieved by mean-mahalanobis 0.1977\n",
      "OS-RA: 0.2715 achieved by mean-mahalanobis 0.2459\n",
      "OS-LH: 0.1014 achieved by mean-pearson 0.0892\n",
      "OS-RH: 0.1295 achieved by mean-pearson 0.1196\n"
     ]
    }
   ],
   "source": [
    "model_selection(results_mms, results_rsfc, (DSF_X_mvs+DSF_X_uvs)[6], combination_mms, combination_rsfc, parameters_mms, parameters_rsfc, titles)"
   ]
  },
  {
   "cell_type": "code",
   "execution_count": 18,
   "metadata": {
    "ExecuteTime": {
     "end_time": "2022-02-19T12:57:49.555880Z",
     "start_time": "2022-02-19T12:57:39.460018Z"
    }
   },
   "outputs": [
    {
     "name": "stdout",
     "output_type": "stream",
     "text": [
      "SS-LA: 0.1626 achieved by min-pearson-25-max 0.1469\n",
      "SS-RA: 0.1166 achieved by min-mahalanobis-50-max-min 0.1077\n",
      "SS-LH: 0.1558 achieved by min-mahalanobis-50-max 0.1394\n",
      "SS-RH: 0.0812 achieved by min-cosine-50-min 0.0730\n",
      "SO-LA: 0.4883 achieved by min-wrd-50-max 0.4607\n",
      "SO-RA: 0.2212 achieved by min-mahalanobis-50-max 0.1974\n",
      "SO-LH: 0.5048 achieved by min-euclidean-50-mmm 0.4678\n",
      "SO-RH: 0.2726 achieved by min-cosine-50-None 0.2488\n",
      "OS-LA: 0.3057 achieved by min-euclidean-25-mean-min 0.2856\n",
      "OS-RA: 0.2396 achieved by min-euclidean-25-mean-min 0.2273\n",
      "OS-LH: 0.3720 achieved by min-mahalanobis-50-None 0.3306\n",
      "OS-RH: 0.4061 achieved by min-manhattan-50-max 0.3807\n",
      "------------------------------------------------\n",
      "SS-LA: 0.1629 achieved by min-pearson 0.1506\n",
      "SS-RA: 0.1076 achieved by min-pearson 0.0947\n",
      "SS-LH: 0.0747 achieved by min-cosine 0.0738\n",
      "SS-RH: -0.0913 achieved by min-cosine -0.0782\n",
      "SO-LA: -0.0597 achieved by min-pearson -0.0574\n",
      "SO-RA: -0.0915 achieved by min-cosine -0.0886\n",
      "SO-LH: -0.2119 achieved by min-cosine -0.2026\n",
      "SO-RH: -0.0800 achieved by min-cosine -0.0843\n",
      "OS-LA: 0.2191 achieved by min-mahalanobis 0.2172\n",
      "OS-RA: 0.3161 achieved by min-mahalanobis 0.2890\n",
      "OS-LH: 0.1335 achieved by min-pearson 0.1205\n",
      "OS-RH: 0.0993 achieved by min-pearson 0.0926\n"
     ]
    }
   ],
   "source": [
    "model_selection(results_mms, results_rsfc, (DSF_X_mvs+DSF_X_uvs)[7], combination_mms, combination_rsfc, parameters_mms, parameters_rsfc, titles)"
   ]
  },
  {
   "cell_type": "code",
   "execution_count": 19,
   "metadata": {
    "ExecuteTime": {
     "end_time": "2022-02-19T12:58:16.665820Z",
     "start_time": "2022-02-19T12:58:03.194070Z"
    }
   },
   "outputs": [
    {
     "name": "stdout",
     "output_type": "stream",
     "text": [
      "SS-LA: 0.1169 achieved by abs*mean-pearson-50-max-min 0.1267\n",
      "SS-RA: -0.0365 achieved by abs*mean-pearson-50-min 0.1385\n",
      "SS-LH: 0.0276 achieved by abs*mean-euclidean-50-max 0.1306\n",
      "SS-RH: 0.0586 achieved by abs*mean-wrd-50-min 0.0596\n",
      "SO-LA: 0.3235 achieved by abs*mean-wrd-50-max 0.3035\n",
      "SO-RA: 0.1201 achieved by abs*mean-pearson-50-mean 0.2195\n",
      "SO-LH: 0.2797 achieved by abs*mean-manhattan-25-mmm 0.3436\n",
      "SO-RH: 0.2133 achieved by abs*mean-manhattan-50-None 0.3591\n",
      "OS-LA: 0.2838 achieved by abs*mean-euclidean-25-min 0.2890\n",
      "OS-RA: 0.2117 achieved by abs*mean-euclidean-25-max-min 0.3916\n",
      "OS-LH: 0.3534 achieved by abs*mean-mahalanobis-50-None 0.3048\n",
      "OS-RH: 0.3431 achieved by abs*mean-pearson-25-max 0.4179\n",
      "------------------------------------------------\n",
      "SS-LA: 0.1331 achieved by abs*mean-pearson 0.1195\n",
      "SS-RA: 0.1218 achieved by abs*mean-pearson 0.1147\n",
      "SS-LH: 0.0243 achieved by abs*mean-cosine 0.0190\n",
      "SS-RH: -0.0138 achieved by abs*mean-cosine -0.0060\n",
      "SO-LA: -0.0430 achieved by abs*mean-pearson -0.0386\n",
      "SO-RA: -0.0123 achieved by abs*mean-mahalanobis -0.0116\n",
      "SO-LH: -0.1398 achieved by abs*mean-mahalanobis -0.1349\n",
      "SO-RH: -0.0953 achieved by abs*mean-cosine -0.0975\n",
      "OS-LA: 0.1386 achieved by abs*mean-euclidean 0.1341\n",
      "OS-RA: 0.2178 achieved by abs*mean-mahalanobis 0.2023\n",
      "OS-LH: 0.0701 achieved by abs*mean-pearson 0.0654\n",
      "OS-RH: 0.0259 achieved by abs*mean-pearson 0.0191\n"
     ]
    }
   ],
   "source": [
    "model_selection(results_mms, results_rsfc, (DSF_X_mvs+DSF_X_uvs)[8], combination_mms, combination_rsfc, parameters_mms, parameters_rsfc, titles)"
   ]
  },
  {
   "cell_type": "code",
   "execution_count": 20,
   "metadata": {
    "ExecuteTime": {
     "end_time": "2022-02-19T12:58:58.984930Z",
     "start_time": "2022-02-19T12:58:52.775996Z"
    }
   },
   "outputs": [
    {
     "name": "stdout",
     "output_type": "stream",
     "text": [
      "SS-LA: 0.3981 achieved by max-euclidean-25-mmm 0.3677\n",
      "SS-RA: 0.3030 achieved by max-pearson-25-max 0.2869\n",
      "SS-LH: 0.2988 achieved by max-manhattan-25-min 0.2878\n",
      "SS-RH: 0.5302 achieved by max-euclidean-25-min 0.5168\n",
      "SO-LA: 0.2952 achieved by max-pearson-25-mean-min 0.2929\n",
      "SO-RA: 0.2812 achieved by max-euclidean-50-mean 0.2756\n",
      "SO-LH: 0.2693 achieved by max-pearson-50-None 0.2532\n",
      "SO-RH: 0.5156 achieved by max-mahalanobis-25-max 0.4766\n",
      "OS-LA: 0.2252 achieved by max-pearson-25-max 0.2254\n",
      "OS-RA: 0.4113 achieved by max-pearson-50-None 0.3934\n",
      "OS-LH: 0.3062 achieved by max-mahalanobis-50-max-mean 0.2774\n",
      "OS-RH: 0.2768 achieved by max-cosine-50-min 0.2740\n",
      "------------------------------------------------\n",
      "SS-LA: 0.2272 achieved by max-euclidean 0.2094\n",
      "SS-RA: 0.1731 achieved by max-manhattan 0.1686\n",
      "SS-LH: 0.1465 achieved by max-mahalanobis 0.1256\n",
      "SS-RH: 0.3600 achieved by max-mahalanobis 0.3434\n",
      "SO-LA: 0.0943 achieved by max-pearson 0.0871\n",
      "SO-RA: 0.1412 achieved by max-pearson 0.1359\n",
      "SO-LH: 0.0654 achieved by max-pearson 0.0656\n",
      "SO-RH: 0.1113 achieved by max-mahalanobis 0.1055\n",
      "OS-LA: 0.1367 achieved by max-cosine 0.1234\n",
      "OS-RA: 0.2126 achieved by max-cosine 0.1968\n",
      "OS-LH: 0.3128 achieved by max-cosine 0.2861\n",
      "OS-RH: 0.1912 achieved by max-cosine 0.1682\n"
     ]
    }
   ],
   "source": [
    "model_selection(results_mms, results_rsfc, (DSF_X_mvs+DSF_X_uvs)[9], combination_mms, combination_rsfc, parameters_mms, parameters_rsfc, titles)"
   ]
  }
 ],
 "metadata": {
  "kernelspec": {
   "display_name": "Python 3 (ipykernel)",
   "language": "python",
   "name": "python3"
  },
  "language_info": {
   "codemirror_mode": {
    "name": "ipython",
    "version": 3
   },
   "file_extension": ".py",
   "mimetype": "text/x-python",
   "name": "python",
   "nbconvert_exporter": "python",
   "pygments_lexer": "ipython3",
   "version": "3.9.7"
  },
  "latex_envs": {
   "LaTeX_envs_menu_present": true,
   "autoclose": false,
   "autocomplete": true,
   "bibliofile": "biblio.bib",
   "cite_by": "apalike",
   "current_citInitial": 1,
   "eqLabelWithNumbers": true,
   "eqNumInitial": 1,
   "hotkeys": {
    "equation": "Ctrl-E",
    "itemize": "Ctrl-I"
   },
   "labels_anchors": false,
   "latex_user_defs": false,
   "report_style_numbering": false,
   "user_envs_cfg": false
  },
  "toc": {
   "base_numbering": 1,
   "nav_menu": {},
   "number_sections": true,
   "sideBar": true,
   "skip_h1_title": false,
   "title_cell": "Table of Contents",
   "title_sidebar": "Contents",
   "toc_cell": false,
   "toc_position": {
    "height": "calc(100% - 180px)",
    "left": "10px",
    "top": "150px",
    "width": "165px"
   },
   "toc_section_display": true,
   "toc_window_display": true
  },
  "varInspector": {
   "cols": {
    "lenName": 16,
    "lenType": 16,
    "lenVar": 40
   },
   "kernels_config": {
    "python": {
     "delete_cmd_postfix": "",
     "delete_cmd_prefix": "del ",
     "library": "var_list.py",
     "varRefreshCmd": "print(var_dic_list())"
    },
    "r": {
     "delete_cmd_postfix": ") ",
     "delete_cmd_prefix": "rm(",
     "library": "var_list.r",
     "varRefreshCmd": "cat(var_dic_list()) "
    }
   },
   "types_to_exclude": [
    "module",
    "function",
    "builtin_function_or_method",
    "instance",
    "_Feature"
   ],
   "window_display": false
  }
 },
 "nbformat": 4,
 "nbformat_minor": 4
}
