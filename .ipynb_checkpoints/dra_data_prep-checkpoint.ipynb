{
 "cells": [
  {
   "cell_type": "code",
   "execution_count": 1,
   "metadata": {
    "ExecuteTime": {
     "end_time": "2022-04-16T13:24:58.080712Z",
     "start_time": "2022-04-16T13:24:51.971094Z"
    }
   },
   "outputs": [],
   "source": [
    "from eval import *"
   ]
  },
  {
   "cell_type": "code",
   "execution_count": 2,
   "metadata": {
    "ExecuteTime": {
     "end_time": "2022-04-16T13:25:22.825325Z",
     "start_time": "2022-04-16T13:25:06.287132Z"
    }
   },
   "outputs": [],
   "source": [
    "mode = 'IMQ-MMS'\n",
    "results_npp, results_pp, results_ppw, results_cpp_sd = load_bootstrapping_results(mode)\n",
    "parameters_npp, parameters_pp, parameters_ppw, parameters_cpp_sd, combination_mms, _ = construct_parameter_configurations(mode)\n",
    "\n",
    "mode = 'IMQ-rsFC'\n",
    "results = load_bootstrapping_results(mode)\n",
    "parameters_rsfc, combination, _ = construct_parameter_configurations(mode)\n",
    "\n",
    "# We chose the right hippocampus (RH) and bilateral amygdala (LA and RA) from Hypothesis 2 as brain regions of interest.\n",
    "\n",
    "results_rsfc = [results[i] for i in [3, 7, 8, 9]]\n",
    "combination_rsfc = [combination[i] for i in [3, 7, 8, 9]]\n",
    "\n",
    "results_mms = [results_npp[i]+results_pp[i]+results_ppw[i]+results_cpp_sd[i] for i in [3, 7, 8, 9]]\n",
    "combination_mms = [combination_mms[i] for i in [3, 7, 8, 9]]\n",
    "parameters_mms = []\n",
    "parameters_mms.extend(parameters_npp)\n",
    "parameters_mms.extend(parameters_pp)\n",
    "parameters_mms.extend(parameters_ppw)\n",
    "parameters_mms.extend(parameters_cpp_sd)\n",
    "        \n",
    "titles = ['SS-RH', 'SO-RH', 'OS-LA', 'OS-RA']"
   ]
  },
  {
   "cell_type": "code",
   "execution_count": 3,
   "metadata": {
    "ExecuteTime": {
     "end_time": "2022-04-16T13:25:53.905019Z",
     "start_time": "2022-04-16T13:25:38.540349Z"
    }
   },
   "outputs": [
    {
     "name": "stdout",
     "output_type": "stream",
     "text": [
      "IMQ-MMS\n",
      "SS-RH: 0.3978 achieved by pearson-mahalanobis-25-max-min 0.3552\n",
      "SO-RH: 0.2227 achieved by pearson-mahalanobis-50-None 0.1972\n",
      "OS-LA: 0.0830 achieved by pearson-cosine-25-min 0.0801\n",
      "OS-RA: 0.1651 achieved by pearson-euclidean-25-min 0.1585\n",
      "------------------------------------------------\n",
      "IMQ-rsFC\n",
      "SS-RH: 0.0295 achieved by pearson-cosine 0.0287\n",
      "SO-RH: 0.2580 achieved by pearson-pearson 0.2427\n",
      "OS-LA: 0.1060 achieved by pearson-cosine 0.1016\n",
      "OS-RA: 0.1587 achieved by pearson-cosine 0.1497\n"
     ]
    }
   ],
   "source": [
    "data_prep(results_mms, results_rsfc, (DSF_X_mvs+DSF_X_uvs)[0], combination_mms, combination_rsfc, parameters_mms, parameters_rsfc, titles)"
   ]
  },
  {
   "cell_type": "code",
   "execution_count": 4,
   "metadata": {
    "ExecuteTime": {
     "end_time": "2022-04-16T13:26:29.381725Z",
     "start_time": "2022-04-16T13:26:27.249115Z"
    }
   },
   "outputs": [
    {
     "name": "stdout",
     "output_type": "stream",
     "text": [
      "IMQ-MMS\n",
      "SS-RH: 0.3330 achieved by euclidean-pearson-50-None 0.3201\n",
      "SO-RH: 0.4541 achieved by euclidean-cosine-50-None 0.4196\n",
      "OS-LA: 0.1861 achieved by euclidean-euclidean-25-min 0.1814\n",
      "OS-RA: 0.5292 achieved by euclidean-pearson-25-max 0.5014\n",
      "------------------------------------------------\n",
      "IMQ-rsFC\n",
      "SS-RH: 0.1315 achieved by euclidean-mahalanobis 0.1228\n",
      "SO-RH: -0.1087 achieved by euclidean-mahalanobis -0.1215\n",
      "OS-LA: 0.3344 achieved by euclidean-cosine 0.3164\n",
      "OS-RA: 0.2076 achieved by euclidean-pearson 0.1902\n"
     ]
    }
   ],
   "source": [
    "data_prep(results_mms, results_rsfc, (DSF_X_mvs+DSF_X_uvs)[1], combination_mms, combination_rsfc, parameters_mms, parameters_rsfc, titles)"
   ]
  },
  {
   "cell_type": "code",
   "execution_count": 5,
   "metadata": {
    "ExecuteTime": {
     "end_time": "2022-04-16T13:26:37.774584Z",
     "start_time": "2022-04-16T13:26:36.295928Z"
    }
   },
   "outputs": [
    {
     "name": "stdout",
     "output_type": "stream",
     "text": [
      "IMQ-MMS\n",
      "SS-RH: 0.2873 achieved by mahalanobis-manhattan-50-None 0.2776\n",
      "SO-RH: 0.4320 achieved by mahalanobis-pearson-25-max-min 0.3966\n",
      "OS-LA: 0.1737 achieved by mahalanobis-euclidean-25-min 0.1702\n",
      "OS-RA: 0.5627 achieved by mahalanobis-pearson-25-max 0.5153\n",
      "------------------------------------------------\n",
      "IMQ-rsFC\n",
      "SS-RH: 0.1574 achieved by mahalanobis-mahalanobis 0.1487\n",
      "SO-RH: -0.1111 achieved by mahalanobis-mahalanobis -0.1051\n",
      "OS-LA: 0.3118 achieved by mahalanobis-cosine 0.2982\n",
      "OS-RA: 0.1844 achieved by mahalanobis-cosine 0.1705\n"
     ]
    }
   ],
   "source": [
    "data_prep(results_mms, results_rsfc, (DSF_X_mvs+DSF_X_uvs)[2], combination_mms, combination_rsfc, parameters_mms, parameters_rsfc, titles)"
   ]
  },
  {
   "cell_type": "code",
   "execution_count": 6,
   "metadata": {
    "ExecuteTime": {
     "end_time": "2022-04-16T13:26:43.329543Z",
     "start_time": "2022-04-16T13:26:41.111580Z"
    }
   },
   "outputs": [
    {
     "name": "stdout",
     "output_type": "stream",
     "text": [
      "IMQ-MMS\n",
      "SS-RH: 0.2174 achieved by cosine-cosine-50-mean 0.1888\n",
      "SO-RH: 0.3684 achieved by cosine-cosine-50-None 0.3415\n",
      "OS-LA: 0.2707 achieved by cosine-euclidean-25-mean-min 0.2513\n",
      "OS-RA: 0.2464 achieved by cosine-cosine-25-max 0.2387\n",
      "------------------------------------------------\n",
      "IMQ-rsFC\n",
      "SS-RH: 0.0879 achieved by cosine-cosine 0.0798\n",
      "SO-RH: -0.1000 achieved by cosine-cosine -0.1010\n",
      "OS-LA: 0.2306 achieved by cosine-euclidean 0.2241\n",
      "OS-RA: 0.2630 achieved by cosine-mahalanobis 0.2409\n"
     ]
    }
   ],
   "source": [
    "data_prep(results_mms, results_rsfc, (DSF_X_mvs+DSF_X_uvs)[3], combination_mms, combination_rsfc, parameters_mms, parameters_rsfc, titles)"
   ]
  },
  {
   "cell_type": "code",
   "execution_count": 7,
   "metadata": {
    "ExecuteTime": {
     "end_time": "2022-04-16T13:26:47.350789Z",
     "start_time": "2022-04-16T13:26:45.940500Z"
    }
   },
   "outputs": [
    {
     "name": "stdout",
     "output_type": "stream",
     "text": [
      "IMQ-MMS\n",
      "SS-RH: 0.3221 achieved by manhattan-cosine-50-None 0.3105\n",
      "SO-RH: 0.4626 achieved by manhattan-manhattan-50-mean-min 0.4355\n",
      "OS-LA: 0.1620 achieved by manhattan-euclidean-25-min 0.1631\n",
      "OS-RA: 0.5185 achieved by manhattan-pearson-25-max 0.4850\n",
      "------------------------------------------------\n",
      "IMQ-rsFC\n",
      "SS-RH: 0.1202 achieved by manhattan-mahalanobis 0.1095\n",
      "SO-RH: -0.0885 achieved by manhattan-mahalanobis -0.1052\n",
      "OS-LA: 0.3354 achieved by manhattan-cosine 0.3117\n",
      "OS-RA: 0.2037 achieved by manhattan-pearson 0.1854\n"
     ]
    }
   ],
   "source": [
    "data_prep(results_mms, results_rsfc, (DSF_X_mvs+DSF_X_uvs)[4], combination_mms, combination_rsfc, parameters_mms, parameters_rsfc, titles)"
   ]
  },
  {
   "cell_type": "code",
   "execution_count": 8,
   "metadata": {
    "ExecuteTime": {
     "end_time": "2022-04-16T13:26:52.232158Z",
     "start_time": "2022-04-16T13:26:50.180092Z"
    }
   },
   "outputs": [
    {
     "name": "stdout",
     "output_type": "stream",
     "text": [
      "IMQ-MMS\n",
      "SS-RH: 0.2537 achieved by abs-manhattan-50-None 0.3218\n",
      "SO-RH: 0.2948 achieved by abs-manhattan-50-None 0.4102\n",
      "OS-LA: 0.2397 achieved by abs-manhattan-25-min 0.2320\n",
      "OS-RA: 0.2263 achieved by abs-pearson-50-None 0.4282\n",
      "------------------------------------------------\n",
      "IMQ-rsFC\n",
      "SS-RH: 0.1034 achieved by abs-mahalanobis 0.1077\n",
      "SO-RH: -0.0487 achieved by abs-mahalanobis -0.0566\n",
      "OS-LA: 0.0896 achieved by abs-euclidean 0.0866\n",
      "OS-RA: 0.1416 achieved by abs-mahalanobis 0.1387\n"
     ]
    }
   ],
   "source": [
    "data_prep(results_mms, results_rsfc, (DSF_X_mvs+DSF_X_uvs)[5], combination_mms, combination_rsfc, parameters_mms, parameters_rsfc, titles)"
   ]
  },
  {
   "cell_type": "code",
   "execution_count": 9,
   "metadata": {
    "ExecuteTime": {
     "end_time": "2022-04-16T13:26:56.045183Z",
     "start_time": "2022-04-16T13:26:54.780447Z"
    }
   },
   "outputs": [
    {
     "name": "stdout",
     "output_type": "stream",
     "text": [
      "IMQ-MMS\n",
      "SS-RH: 0.0321 achieved by mean-cosine-50-max 0.0331\n",
      "SO-RH: 0.0808 achieved by mean-cosine-50-None 0.0747\n",
      "OS-LA: 0.2415 achieved by mean-cosine-25-min 0.2330\n",
      "OS-RA: 0.2002 achieved by mean-pearson-50-max 0.1971\n",
      "------------------------------------------------\n",
      "IMQ-rsFC\n",
      "SS-RH: -0.1424 achieved by mean-cosine -0.1323\n",
      "SO-RH: 0.0262 achieved by mean-cosine 0.0144\n",
      "OS-LA: 0.2021 achieved by mean-mahalanobis 0.1977\n",
      "OS-RA: 0.2715 achieved by mean-mahalanobis 0.2459\n"
     ]
    }
   ],
   "source": [
    "data_prep(results_mms, results_rsfc, (DSF_X_mvs+DSF_X_uvs)[6], combination_mms, combination_rsfc, parameters_mms, parameters_rsfc, titles)"
   ]
  },
  {
   "cell_type": "code",
   "execution_count": 10,
   "metadata": {
    "ExecuteTime": {
     "end_time": "2022-04-16T13:28:59.605130Z",
     "start_time": "2022-04-16T13:28:58.038584Z"
    }
   },
   "outputs": [
    {
     "name": "stdout",
     "output_type": "stream",
     "text": [
      "IMQ-MMS\n",
      "SS-RH: 0.0812 achieved by min-cosine-50-min 0.0730\n",
      "SO-RH: 0.2726 achieved by min-cosine-50-None 0.2488\n",
      "OS-LA: 0.3057 achieved by min-euclidean-25-mean-min 0.2856\n",
      "OS-RA: 0.2396 achieved by min-euclidean-25-mean-min 0.2273\n",
      "------------------------------------------------\n",
      "IMQ-rsFC\n",
      "SS-RH: -0.0913 achieved by min-cosine -0.0782\n",
      "SO-RH: -0.0800 achieved by min-cosine -0.0843\n",
      "OS-LA: 0.2191 achieved by min-mahalanobis 0.2172\n",
      "OS-RA: 0.3161 achieved by min-mahalanobis 0.2890\n"
     ]
    }
   ],
   "source": [
    "data_prep(results_mms, results_rsfc, (DSF_X_mvs+DSF_X_uvs)[7], combination_mms, combination_rsfc, parameters_mms, parameters_rsfc, titles)"
   ]
  },
  {
   "cell_type": "code",
   "execution_count": 11,
   "metadata": {
    "ExecuteTime": {
     "end_time": "2022-04-16T13:29:10.622983Z",
     "start_time": "2022-04-16T13:29:02.710498Z"
    },
    "scrolled": false
   },
   "outputs": [
    {
     "name": "stdout",
     "output_type": "stream",
     "text": [
      "IMQ-MMS\n",
      "SS-RH: 0.0586 achieved by abs*mean-wrd-50-min 0.0596\n",
      "SO-RH: 0.2133 achieved by abs*mean-manhattan-50-None 0.3591\n",
      "OS-LA: 0.2838 achieved by abs*mean-euclidean-25-min 0.2890\n",
      "OS-RA: 0.2117 achieved by abs*mean-euclidean-25-max-min 0.3916\n",
      "------------------------------------------------\n",
      "IMQ-rsFC\n",
      "SS-RH: -0.0138 achieved by abs*mean-cosine -0.0060\n",
      "SO-RH: -0.0953 achieved by abs*mean-cosine -0.0975\n",
      "OS-LA: 0.1386 achieved by abs*mean-euclidean 0.1341\n",
      "OS-RA: 0.2178 achieved by abs*mean-mahalanobis 0.2023\n"
     ]
    }
   ],
   "source": [
    "data_prep(results_mms, results_rsfc, (DSF_X_mvs+DSF_X_uvs)[8], combination_mms, combination_rsfc, parameters_mms, parameters_rsfc, titles)"
   ]
  },
  {
   "cell_type": "code",
   "execution_count": 12,
   "metadata": {
    "ExecuteTime": {
     "end_time": "2022-04-16T13:29:15.579630Z",
     "start_time": "2022-04-16T13:29:13.860090Z"
    }
   },
   "outputs": [
    {
     "name": "stdout",
     "output_type": "stream",
     "text": [
      "IMQ-MMS\n",
      "SS-RH: 0.5302 achieved by max-euclidean-25-min 0.5168\n",
      "SO-RH: 0.5156 achieved by max-mahalanobis-25-max 0.4766\n",
      "OS-LA: 0.2252 achieved by max-pearson-25-max 0.2254\n",
      "OS-RA: 0.4113 achieved by max-pearson-50-None 0.3934\n",
      "------------------------------------------------\n",
      "IMQ-rsFC\n",
      "SS-RH: 0.3600 achieved by max-mahalanobis 0.3434\n",
      "SO-RH: 0.1113 achieved by max-mahalanobis 0.1055\n",
      "OS-LA: 0.1367 achieved by max-cosine 0.1234\n",
      "OS-RA: 0.2126 achieved by max-cosine 0.1968\n"
     ]
    }
   ],
   "source": [
    "data_prep(results_mms, results_rsfc, (DSF_X_mvs+DSF_X_uvs)[9], combination_mms, combination_rsfc, parameters_mms, parameters_rsfc, titles)"
   ]
  }
 ],
 "metadata": {
  "kernelspec": {
   "display_name": "Python 3 (ipykernel)",
   "language": "python",
   "name": "python3"
  },
  "language_info": {
   "codemirror_mode": {
    "name": "ipython",
    "version": 3
   },
   "file_extension": ".py",
   "mimetype": "text/x-python",
   "name": "python",
   "nbconvert_exporter": "python",
   "pygments_lexer": "ipython3",
   "version": "3.9.7"
  },
  "latex_envs": {
   "LaTeX_envs_menu_present": true,
   "autoclose": false,
   "autocomplete": true,
   "bibliofile": "biblio.bib",
   "cite_by": "apalike",
   "current_citInitial": 1,
   "eqLabelWithNumbers": true,
   "eqNumInitial": 1,
   "hotkeys": {
    "equation": "Ctrl-E",
    "itemize": "Ctrl-I"
   },
   "labels_anchors": false,
   "latex_user_defs": false,
   "report_style_numbering": false,
   "user_envs_cfg": false
  },
  "toc": {
   "base_numbering": 1,
   "nav_menu": {},
   "number_sections": true,
   "sideBar": true,
   "skip_h1_title": false,
   "title_cell": "Table of Contents",
   "title_sidebar": "Contents",
   "toc_cell": false,
   "toc_position": {
    "height": "calc(100% - 180px)",
    "left": "10px",
    "top": "150px",
    "width": "165px"
   },
   "toc_section_display": true,
   "toc_window_display": true
  },
  "varInspector": {
   "cols": {
    "lenName": 16,
    "lenType": 16,
    "lenVar": 40
   },
   "kernels_config": {
    "python": {
     "delete_cmd_postfix": "",
     "delete_cmd_prefix": "del ",
     "library": "var_list.py",
     "varRefreshCmd": "print(var_dic_list())"
    },
    "r": {
     "delete_cmd_postfix": ") ",
     "delete_cmd_prefix": "rm(",
     "library": "var_list.r",
     "varRefreshCmd": "cat(var_dic_list()) "
    }
   },
   "types_to_exclude": [
    "module",
    "function",
    "builtin_function_or_method",
    "instance",
    "_Feature"
   ],
   "window_display": false
  }
 },
 "nbformat": 4,
 "nbformat_minor": 4
}
