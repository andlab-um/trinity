{
 "cells": [
  {
   "cell_type": "code",
   "execution_count": 1,
   "metadata": {
    "ExecuteTime": {
     "end_time": "2022-04-16T09:47:47.264306Z",
     "start_time": "2022-04-16T09:47:43.418007Z"
    }
   },
   "outputs": [],
   "source": [
    "from eval import *\n",
    "\n",
    "\n",
    "def model_selection(results, combination, parameters, titles, mms_pc=None, show=False):\n",
    "    \n",
    "    \"\"\"\n",
    "    Select the optimal parameter configuration with the the highest average IDM correspondence from subject-wise bootstrapping\n",
    "    \n",
    "    Parameters\n",
    "    ----------\n",
    "    results: list.\n",
    "        The subject-wise bootstrapping results grouped by the same pipeline.\n",
    "    combination: list.\n",
    "        The list of tuples, which consists of the combination of modalities.\n",
    "    parameters: list.\n",
    "        The list of tuples, which consists of the combination of parameters.\n",
    "    titles: list.\n",
    "        The list of tuples, which consists of the combination of names of modalities.\n",
    "    mms_pc: string 'NPP' or 'PP' or 'PPw' or 'CPP-SD'. Default is None.\n",
    "        The pipeline to construct inter-subject MMS dissimilarity matrix.\n",
    "        'NPP' for without patching and pooling operations and computing surface distance,\n",
    "        'PP' or 'PPw' (wmd and wrd) for with patching and pooling operations but without computing surface distance,\n",
    "        'CPP-SD' for computing patching and pooling operations-based surface distance.\n",
    "    bsm: bool True or False. Default is False.\n",
    "        If bsm is True, then only return the highest average IDM correspondence\n",
    "        If bsm is False, then return the info about the optimal parameter configuration\n",
    "    show: bool True or False. Default is False.\n",
    "        Print info or not.\n",
    "    \n",
    "    Returns\n",
    "    -------\n",
    "    winner: list. \n",
    "        The info about the optimal parameter configuration\n",
    "    pvals: list. \n",
    "        The p-value about the optimal parameter configuration\n",
    "    bs_mean: list. \n",
    "        The highest average IDM correspondence\n",
    "    \"\"\"\n",
    "\n",
    "    winner, pvals, bs_mean = [], [], []\n",
    "    num_p = len(parameters)\n",
    "\n",
    "    for i, r in tqdm(enumerate(results)):\n",
    "\n",
    "        idx, m = sorted([p for p in enumerate(mean(r, num_p))],\n",
    "                        key=lambda x: x[-1],\n",
    "                        reverse=True)[0]\n",
    "        \n",
    "        bs_mean.append((m, r[idx][-1]))\n",
    "            \n",
    "        x = combination[i][0]\n",
    "                \n",
    "        if 'SS' in titles[i] or 'SO' in titles[i] or 'OS' in titles[i]:\n",
    "            \n",
    "            if parameters[idx][0] in DSF_X_mvs:\n",
    "                x = combination[i][0][0]\n",
    "                \n",
    "            if parameters[idx][0] in DSF_X_uvs:\n",
    "                x = combination[i][0][1]\n",
    "            \n",
    "        if mms_pc == 'NPP':\n",
    "            \n",
    "            rho, pv = run(x,\n",
    "                          combination[i][1],\n",
    "                          parameters[idx][0],\n",
    "                          parameters[idx][1],\n",
    "                          iter=10000)\n",
    "\n",
    "            if show:\n",
    "                print(titles[i] + ': ' + 'rho ' + '%.4f' % float(rho) + ' p ' +\n",
    "                      '%.4f' % float(pv) + ' achieved by ' + parameters[idx][0] +\n",
    "                      '-' + parameters[idx][1] + ' ' + '%.4f' % float(m))\n",
    "\n",
    "        else:\n",
    "            rho, pv = run(x,\n",
    "                          combination[i][1],\n",
    "                          parameters[idx][0],\n",
    "                          parameters[idx][1],\n",
    "                          parameters[idx][2],\n",
    "                          iter=10000)\n",
    "                \n",
    "            if show:\n",
    "                print(titles[i] + ': ' + 'rho ' + '%.4f' % float(rho) + ' p ' +\n",
    "                      '%.4f' % float(pv) + ' achieved by ' + parameters[idx][0] +\n",
    "                      '-' + parameters[idx][1] + '-' +\n",
    "                      str(parameters[idx][2][1][0]) + '-' +\n",
    "                      str(parameters[idx][2][2]) + ' ' + '%.4f' % float(m))\n",
    "\n",
    "        winner.append((r[idx], rho, m, parameters[idx]))\n",
    "        pvals.append(pv)\n",
    "            \n",
    "    return winner, pvals, bs_mean\n",
    "\n",
    "\n",
    "def eval_all(combination, w_npp, w_pp, w_ppw, w_cpp_sd, pv_npp, pv_pp, pv_ppw, pv_cpp_sd,\n",
    "             titles):\n",
    "    \n",
    "    \"\"\"\n",
    "    Evaluate all the average IDM correspondence from bootstrapping for different pipelines\n",
    "    \"\"\"\n",
    "\n",
    "    pvals_all = []\n",
    "\n",
    "    for i in range(len(combination)):\n",
    "\n",
    "        idx, m = sorted([(0, w_npp[i][2]), (1, w_pp[i][2]), (2, w_ppw[i][2]),\n",
    "                         (3, w_cpp_sd[i][2])],\n",
    "                        key=lambda x: x[-1],\n",
    "                        reverse=True)[0]\n",
    "\n",
    "        if idx == 0:\n",
    "            rho = w_npp[i][1]\n",
    "            pv = pv_npp[i]\n",
    "            parameters = w_npp[i][-1]\n",
    "            m = w_npp[i][2]\n",
    "            l, h = st.norm.interval(alpha=0.95,\n",
    "                                    loc=np.mean(w_npp[i][0][1]),\n",
    "                                    scale=st.sem(w_npp[i][0][1]))\n",
    "            print('NPP:    ' + titles[i] + ': ' + 'rho ' + '%.4f' % float(rho) +\n",
    "                  ' p ' + '%.4f' % float(pv) + ' mean ' + '%.4f' % float(m) +\n",
    "                  ' CI ' + '%.4f' % float(l) + '-' + '%.4f' % float(h) +\n",
    "                  ' achieved by ' + parameters[0] + '-' + parameters[1])\n",
    "\n",
    "        elif idx == 1:\n",
    "            rho = w_pp[i][1]\n",
    "            pv = pv_pp[i]\n",
    "            parameters = w_pp[i][-1]\n",
    "            m = w_pp[i][2]\n",
    "            l, h = st.norm.interval(alpha=0.95,\n",
    "                                    loc=np.mean(w_pp[i][0][1]),\n",
    "                                    scale=st.sem(w_pp[i][0][1]))\n",
    "            print('PP:     ' + titles[i] + ': ' + 'rho ' + '%.4f' % float(rho) +\n",
    "                  ' p ' + '%.4f' % float(pv) + ' mean ' + '%.4f' % float(m) +\n",
    "                  ' CI ' + '%.4f' % float(l) + '-' + '%.4f' % float(h) +\n",
    "                  ' achieved by ' + parameters[0] + '-' + parameters[1] + '-' +\n",
    "                  str(parameters[2][1][0]) + '-' + str(parameters[2][2]))\n",
    "\n",
    "        elif idx == 2:\n",
    "            rho = w_ppw[i][1]\n",
    "            pv = pv_ppw[i]\n",
    "            parameters = w_ppw[i][-1]\n",
    "            m = w_ppw[i][2]\n",
    "            l, h = st.norm.interval(alpha=0.95,\n",
    "                                    loc=np.mean(w_ppw[i][0][1]),\n",
    "                                    scale=st.sem(w_ppw[i][0][1]))\n",
    "            print('PPw:    ' + titles[i] + ': ' + 'rho ' + '%.4f' % float(rho) +\n",
    "                  ' p ' + '%.4f' % float(pv) + ' mean ' + '%.4f' % float(m) +\n",
    "                  ' CI ' + '%.4f' % float(l) + '-' + '%.4f' % float(h) +\n",
    "                  ' achieved by ' + parameters[0] + '-' + parameters[1] + '-' +\n",
    "                  str(parameters[2][1][0]) + '-' + str(parameters[2][2]))\n",
    "\n",
    "        elif idx == 3:\n",
    "            rho = w_cpp_sd[i][1]\n",
    "            pv = pv_cpp_sd[i]\n",
    "            parameters = w_cpp_sd[i][-1]\n",
    "            m = w_cpp_sd[i][2]\n",
    "            l, h = st.norm.interval(alpha=0.95,\n",
    "                                    loc=np.mean(w_cpp_sd[i][0][1]),\n",
    "                                    scale=st.sem(w_cpp_sd[i][0][1]))\n",
    "            print('CPP-SD: ' + titles[i] + ': ' + 'rho ' + '%.4f' % float(rho) +\n",
    "                  ' p ' + '%.4f' % float(pv) + ' mean ' + '%.4f' % float(m) +\n",
    "                  ' CI ' + '%.4f' % float(l) + '-' + '%.4f' % float(h) +\n",
    "                  ' achieved by ' + parameters[0] + '-' + parameters[1] + '-' +\n",
    "                  str(parameters[2][1][0]) + '-' + str(parameters[2][2]) + '-' + str(parameters[2][3]))\n",
    "\n",
    "        pvals_all.append(pv)\n",
    "\n",
    "    return pvals_all"
   ]
  },
  {
   "cell_type": "markdown",
   "metadata": {},
   "source": [
    "# IMQ-MMS"
   ]
  },
  {
   "cell_type": "code",
   "execution_count": 2,
   "metadata": {
    "ExecuteTime": {
     "end_time": "2022-04-16T09:48:09.775946Z",
     "start_time": "2022-04-16T09:47:52.298167Z"
    }
   },
   "outputs": [],
   "source": [
    "mode = 'IMQ-MMS'\n",
    "results_npp, results_pp, results_ppw, results_cpp_sd = load_bootstrapping_results(mode)\n",
    "parameters_npp, parameters_pp, parameters_ppw, parameters_cpp_sd, combination, titles = construct_parameter_configurations(mode)"
   ]
  },
  {
   "cell_type": "code",
   "execution_count": 3,
   "metadata": {
    "ExecuteTime": {
     "end_time": "2022-04-16T09:49:40.445251Z",
     "start_time": "2022-04-16T09:48:20.189141Z"
    }
   },
   "outputs": [
    {
     "name": "stderr",
     "output_type": "stream",
     "text": [
      "12it [01:20,  6.68s/it]\n"
     ]
    }
   ],
   "source": [
    "winner_npp_1, pvals_npp_1, bsm_npp_1 = model_selection(results_npp, combination, parameters_npp, titles, mms_pc='NPP')"
   ]
  },
  {
   "cell_type": "code",
   "execution_count": 4,
   "metadata": {
    "ExecuteTime": {
     "end_time": "2022-04-16T09:51:22.564582Z",
     "start_time": "2022-04-16T09:50:08.394261Z"
    }
   },
   "outputs": [
    {
     "name": "stderr",
     "output_type": "stream",
     "text": [
      "12it [01:14,  6.18s/it]\n"
     ]
    }
   ],
   "source": [
    "winner_pp_1, pvals_pp_1, bsm_pp_1 = model_selection(results_pp, combination, parameters_pp, titles)"
   ]
  },
  {
   "cell_type": "code",
   "execution_count": 5,
   "metadata": {
    "ExecuteTime": {
     "end_time": "2022-04-16T09:54:51.467247Z",
     "start_time": "2022-04-16T09:51:33.676834Z"
    }
   },
   "outputs": [
    {
     "name": "stderr",
     "output_type": "stream",
     "text": [
      "12it [03:17, 16.48s/it]\n"
     ]
    }
   ],
   "source": [
    "winner_ppw_1, pvals_ppw_1, bsm_ppw_1 = model_selection(results_ppw, combination, parameters_ppw, titles)"
   ]
  },
  {
   "cell_type": "code",
   "execution_count": 6,
   "metadata": {
    "ExecuteTime": {
     "end_time": "2022-04-16T09:57:00.060018Z",
     "start_time": "2022-04-16T09:55:37.882578Z"
    }
   },
   "outputs": [
    {
     "name": "stderr",
     "output_type": "stream",
     "text": [
      "12it [01:22,  6.85s/it]\n"
     ]
    }
   ],
   "source": [
    "winner_cpp_sd_1, pvals_cpp_sd_1, bsm_cpp_sd_1 = model_selection(results_cpp_sd, combination, parameters_cpp_sd, titles)"
   ]
  },
  {
   "cell_type": "code",
   "execution_count": 7,
   "metadata": {
    "ExecuteTime": {
     "end_time": "2022-04-16T09:57:16.070314Z",
     "start_time": "2022-04-16T09:57:16.050346Z"
    }
   },
   "outputs": [
    {
     "name": "stdout",
     "output_type": "stream",
     "text": [
      "CPP-SD: SS and MMS-LA: rho 0.3981 p 0.0001 mean 0.3677 CI 0.3569-0.3785 achieved by max-euclidean-25-mmm-cosine\n",
      "PP:     SS and MMS-RA: rho 0.4228 p 0.0001 mean 0.3947 CI 0.3861-0.4034 achieved by euclidean-pearson-25-max-min\n",
      "CPP-SD: SS and MMS-LH: rho 0.4347 p 0.0001 mean 0.4127 CI 0.4055-0.4199 achieved by euclidean-pearson-50-max-pearson\n",
      "CPP-SD: SS and MMS-RH: rho 0.5302 p 0.0001 mean 0.5168 CI 0.5051-0.5284 achieved by max-euclidean-25-min-pearson\n",
      "PPw:    SO and MMS-LA: rho 0.4883 p 0.0001 mean 0.4607 CI 0.4478-0.4736 achieved by min-wrd-50-max\n",
      "PP:     SO and MMS-RA: rho 0.4030 p 0.0001 mean 0.3821 CI 0.3751-0.3891 achieved by euclidean-pearson-25-max\n",
      "CPP-SD: SO and MMS-LH: rho 0.5048 p 0.0001 mean 0.4678 CI 0.4601-0.4755 achieved by min-euclidean-50-mmm-cosine\n",
      "CPP-SD: SO and MMS-RH: rho 0.5156 p 0.0001 mean 0.4766 CI 0.4657-0.4875 achieved by max-mahalanobis-25-max-manhattan\n",
      "CPP-SD: OS and MMS-LA: rho 0.2954 p 0.0001 mean 0.2890 CI 0.2801-0.2980 achieved by abs*mean-euclidean-25-min-cosine\n",
      "CPP-SD: OS and MMS-RA: rho 0.5627 p 0.0001 mean 0.5153 CI 0.5051-0.5255 achieved by mahalanobis-pearson-25-max-manhattan\n",
      "CPP-SD: OS and MMS-LH: rho 0.3762 p 0.0001 mean 0.3548 CI 0.3453-0.3643 achieved by cosine-euclidean-50-None-manhattan\n",
      "CPP-SD: OS and MMS-RH: rho 0.4763 p 0.0001 mean 0.4433 CI 0.4321-0.4544 achieved by cosine-manhattan-50-max-mean-cosine\n"
     ]
    }
   ],
   "source": [
    "pvals_all_1 = eval_all(combination, winner_npp_1, winner_pp_1, winner_ppw_1,\n",
    "                       winner_cpp_sd_1, pvals_npp_1, pvals_pp_1, pvals_ppw_1, pvals_cpp_sd_1, titles)"
   ]
  },
  {
   "cell_type": "code",
   "execution_count": 8,
   "metadata": {
    "ExecuteTime": {
     "end_time": "2022-04-16T09:57:36.796928Z",
     "start_time": "2022-04-16T09:57:36.791685Z"
    }
   },
   "outputs": [],
   "source": [
    "bsm_top_SS, bsm_top_SO, bsm_top_OS = [], [], []\n",
    "bsm_top_SS.append(bsm_cpp_sd_1[0])\n",
    "bsm_top_SS.append(bsm_pp_1[1])\n",
    "bsm_top_SS.append(bsm_cpp_sd_1[2])\n",
    "bsm_top_SS.append(bsm_cpp_sd_1[3])\n",
    "bsm_top_SO.append(bsm_ppw_1[4])\n",
    "bsm_top_SO.append(bsm_pp_1[5])\n",
    "bsm_top_SO.append(bsm_cpp_sd_1[6])\n",
    "bsm_top_SO.append(bsm_cpp_sd_1[7])\n",
    "bsm_top_OS.append(bsm_cpp_sd_1[8])\n",
    "bsm_top_OS.append(bsm_cpp_sd_1[9])\n",
    "bsm_top_OS.append(bsm_cpp_sd_1[10])\n",
    "bsm_top_OS.append(bsm_cpp_sd_1[11])"
   ]
  },
  {
   "cell_type": "code",
   "execution_count": 9,
   "metadata": {
    "ExecuteTime": {
     "end_time": "2022-04-16T09:57:40.907190Z",
     "start_time": "2022-04-16T09:57:40.885138Z"
    }
   },
   "outputs": [
    {
     "name": "stdout",
     "output_type": "stream",
     "text": [
      "KstestResult(statistic=0.32017525080887776, pvalue=1.0900049460037837e-91)\n",
      "KstestResult(statistic=0.34872373009107605, pvalue=3.4413976934304813e-109)\n",
      "KstestResult(statistic=0.2879184130239538, pvalue=6.920910279549706e-74)\n",
      "KstestResult(statistic=0.3589383107955064, pvalue=7.367749933898348e-116)\n",
      "KstestResult(statistic=0.35574828635923306, pvalue=9.409566260322012e-114)\n",
      "KstestResult(statistic=0.33518491202852496, pvalue=1.1059130601484301e-100)\n"
     ]
    }
   ],
   "source": [
    "ks_test(bsm_top_SS)"
   ]
  },
  {
   "cell_type": "code",
   "execution_count": 10,
   "metadata": {
    "ExecuteTime": {
     "end_time": "2022-04-16T09:57:46.818247Z",
     "start_time": "2022-04-16T09:57:46.796348Z"
    }
   },
   "outputs": [
    {
     "name": "stdout",
     "output_type": "stream",
     "text": [
      "KstestResult(statistic=0.31200705604641527, pvalue=5.506715801513654e-87)\n",
      "KstestResult(statistic=0.3328018413155317, pvalue=3.178288063927411e-99)\n",
      "KstestResult(statistic=0.26863289630733544, pvalue=3.232656044868573e-64)\n",
      "KstestResult(statistic=0.3663085071950839, pvalue=8.305814341712308e-121)\n",
      "KstestResult(statistic=0.361412928122286, pvalue=1.654854925983289e-117)\n",
      "KstestResult(statistic=0.31036079608970896, pvalue=4.7064746500633106e-86)\n"
     ]
    }
   ],
   "source": [
    "ks_test(bsm_top_SO)"
   ]
  },
  {
   "cell_type": "code",
   "execution_count": 11,
   "metadata": {
    "ExecuteTime": {
     "end_time": "2022-04-16T09:57:50.653721Z",
     "start_time": "2022-04-16T09:57:50.629893Z"
    }
   },
   "outputs": [
    {
     "name": "stdout",
     "output_type": "stream",
     "text": [
      "KstestResult(statistic=0.38205304435619136, pvalue=9.187193792971642e-132)\n",
      "KstestResult(statistic=0.36419051667900626, pvalue=2.254274853184642e-119)\n",
      "KstestResult(statistic=0.40495918596299074, pvalue=1.1637936636965682e-148)\n",
      "KstestResult(statistic=0.3753200675295269, pvalue=5.16757640137947e-127)\n",
      "KstestResult(statistic=0.34689276135450564, pvalue=5.120343438794434e-108)\n",
      "KstestResult(statistic=0.40207089024169174, pvalue=1.819724324034304e-146)\n"
     ]
    }
   ],
   "source": [
    "ks_test(bsm_top_OS)"
   ]
  },
  {
   "cell_type": "code",
   "execution_count": 12,
   "metadata": {
    "ExecuteTime": {
     "end_time": "2022-04-16T09:57:56.177355Z",
     "start_time": "2022-04-16T09:57:56.149234Z"
    }
   },
   "outputs": [],
   "source": [
    "# Since p-values from Kolmogorov-Smirnov tests all less than .05, we next adopt Wilcoxon signed-rank tests rather than paired T-tests.\n",
    "tvals_SS, pvals_SS_1 = wcx_test(bsm_top_SS)\n",
    "tvals_SO, pvals_SO_1 = wcx_test(bsm_top_SO)\n",
    "tvals_OS, pvals_OS_1 = wcx_test(bsm_top_OS)"
   ]
  },
  {
   "cell_type": "code",
   "execution_count": 13,
   "metadata": {
    "ExecuteTime": {
     "end_time": "2022-04-16T09:58:02.463104Z",
     "start_time": "2022-04-16T09:58:02.448285Z"
    }
   },
   "outputs": [
    {
     "name": "stdout",
     "output_type": "stream",
     "text": [
      "stat=-0.027, p=0.000\n",
      "stat=-0.045, p=0.000\n",
      "stat=-0.149, p=0.000\n",
      "stat=-0.018, p=0.000\n",
      "stat=-0.122, p=0.000\n",
      "stat=-0.104, p=0.000\n"
     ]
    }
   ],
   "source": [
    "\"\"\"\n",
    "CPP-SD: SS and MMS-LA: rho 0.3981 p 0.0001 mean 0.3677 CI 0.3569-0.3785\n",
    "PP:     SS and MMS-RA: rho 0.4228 p 0.0001 mean 0.3947 CI 0.3861-0.4034\n",
    "CPP-SD: SS and MMS-LH: rho 0.4347 p 0.0001 mean 0.4127 CI 0.4055-0.4199\n",
    "CPP-SD: SS and MMS-RH: rho 0.5302 p 0.0001 mean 0.5168 CI 0.5051-0.5284\n",
    "\"\"\"\n",
    "\n",
    "for i in range(6):\n",
    "    print('stat=%.3f, p=%.3f' % (tvals_SS[i], pvals_SS_1[i]))"
   ]
  },
  {
   "cell_type": "code",
   "execution_count": 14,
   "metadata": {
    "ExecuteTime": {
     "end_time": "2022-04-16T09:58:06.398946Z",
     "start_time": "2022-04-16T09:58:06.386008Z"
    }
   },
   "outputs": [
    {
     "name": "stdout",
     "output_type": "stream",
     "text": [
      "stat=0.079, p=0.000\n",
      "stat=-0.007, p=0.830\n",
      "stat=-0.016, p=0.150\n",
      "stat=-0.086, p=0.000\n",
      "stat=-0.095, p=0.000\n",
      "stat=-0.009, p=0.132\n"
     ]
    }
   ],
   "source": [
    "\"\"\"\n",
    "PPw:    SO and MMS-LA: rho 0.4883 p 0.0001 mean 0.4607 CI 0.4478-0.4736 \n",
    "PP:     SO and MMS-RA: rho 0.4030 p 0.0001 mean 0.3821 CI 0.3751-0.3891 \n",
    "CPP-SD: SO and MMS-LH: rho 0.5048 p 0.0001 mean 0.4678 CI 0.4601-0.4755 \n",
    "CPP-SD: SO and MMS-RH: rho 0.5156 p 0.0001 mean 0.4766 CI 0.4657-0.4875\n",
    "\"\"\"\n",
    "\n",
    "for i in range(6):\n",
    "    print('stat=%.3f, p=%.3f' % (tvals_SO[i], pvals_SO_1[i]))"
   ]
  },
  {
   "cell_type": "code",
   "execution_count": 15,
   "metadata": {
    "ExecuteTime": {
     "end_time": "2022-04-16T09:58:11.203026Z",
     "start_time": "2022-04-16T09:58:11.198735Z"
    }
   },
   "outputs": [
    {
     "name": "stdout",
     "output_type": "stream",
     "text": [
      "stat=-0.226, p=0.000\n",
      "stat=-0.066, p=0.000\n",
      "stat=-0.154, p=0.000\n",
      "stat=0.160, p=0.000\n",
      "stat=0.072, p=0.000\n",
      "stat=-0.088, p=0.000\n"
     ]
    }
   ],
   "source": [
    "\"\"\"\n",
    "CPP-SD: OS and MMS-LA: rho 0.2954 p 0.0001 mean 0.2890 CI 0.2801-0.2980 \n",
    "CPP-SD: OS and MMS-RA: rho 0.5627 p 0.0001 mean 0.5153 CI 0.5051-0.5255 \n",
    "CPP-SD: OS and MMS-LH: rho 0.3762 p 0.0001 mean 0.3548 CI 0.3453-0.3643 \n",
    "CPP-SD: OS and MMS-RH: rho 0.4763 p 0.0001 mean 0.4433 CI 0.4321-0.4544 \n",
    "\"\"\"\n",
    "\n",
    "for i in range(6):\n",
    "    print('stat=%.3f, p=%.3f' % (tvals_OS[i], pvals_OS_1[i]))"
   ]
  },
  {
   "cell_type": "markdown",
   "metadata": {},
   "source": [
    "# IMQ-rsFC"
   ]
  },
  {
   "cell_type": "code",
   "execution_count": 16,
   "metadata": {
    "ExecuteTime": {
     "end_time": "2022-04-16T09:58:19.771343Z",
     "start_time": "2022-04-16T09:58:19.583070Z"
    }
   },
   "outputs": [],
   "source": [
    "mode = 'IMQ-rsFC'\n",
    "results = load_bootstrapping_results(mode)\n",
    "parameters, combination, titles = construct_parameter_configurations(mode)"
   ]
  },
  {
   "cell_type": "code",
   "execution_count": 17,
   "metadata": {
    "ExecuteTime": {
     "end_time": "2022-04-16T09:59:30.592448Z",
     "start_time": "2022-04-16T09:58:23.639705Z"
    },
    "scrolled": false
   },
   "outputs": [
    {
     "name": "stdout",
     "output_type": "stream",
     "text": [
      "SS and rsFC-LA: rho 0.2272 p 0.0002 mean 0.2094 CI 0.1995-0.2194 achieved by max-euclidean\n",
      "SS and rsFC-RA: rho 0.2025 p 0.0002 mean 0.1747 CI 0.1668-0.1826 achieved by mahalanobis-pearson\n",
      "SS and rsFC-LH: rho 0.1465 p 0.0074 mean 0.1256 CI 0.1162-0.1350 achieved by max-mahalanobis\n",
      "SS and rsFC-RH: rho 0.3600 p 0.0001 mean 0.3434 CI 0.3348-0.3520 achieved by max-mahalanobis\n",
      "SO and rsFC-LA: rho 0.1304 p 0.0145 mean 0.1239 CI 0.1169-0.1310 achieved by euclidean-pearson\n",
      "SO and rsFC-RA: rho 0.1412 p 0.0084 mean 0.1359 CI 0.1266-0.1452 achieved by max-pearson\n",
      "SO and rsFC-LH: rho 0.2383 p 0.0003 mean 0.2254 CI 0.2147-0.2360 achieved by pearson-cosine\n",
      "SO and rsFC-RH: rho 0.2580 p 0.0001 mean 0.2427 CI 0.2347-0.2508 achieved by pearson-pearson\n",
      "OS and rsFC-LA: rho 0.3344 p 0.0001 mean 0.3164 CI 0.3078-0.3250 achieved by euclidean-cosine\n",
      "OS and rsFC-RA: rho 0.3161 p 0.0001 mean 0.2890 CI 0.2788-0.2993 achieved by min-mahalanobis\n",
      "OS and rsFC-LH: rho 0.3128 p 0.0001 mean 0.2861 CI 0.2742-0.2980 achieved by max-cosine\n",
      "OS and rsFC-RH: rho 0.1912 p 0.0005 mean 0.1682 CI 0.1538-0.1825 achieved by max-cosine\n"
     ]
    }
   ],
   "source": [
    "pvals_2, bsm_top_SS, bsm_top_SO, bsm_top_OS = [], [], [], []\n",
    "\n",
    "\n",
    "for i, r in enumerate(results):\n",
    "\n",
    "    idx, m = sorted([m for m in enumerate(mean(r, 50))],\n",
    "                    key=lambda x: x[-1],\n",
    "                    reverse=True)[0]\n",
    "    \n",
    "    if i in [0, 1, 2, 3]:\n",
    "        bsm_top_SS.append((m, r[idx][-1]))\n",
    "        \n",
    "    if i in [4, 5, 6, 7]:\n",
    "        bsm_top_SO.append((m, r[idx][-1]))\n",
    "        \n",
    "    if i in [8, 9, 10, 11]:\n",
    "        bsm_top_OS.append((m, r[idx][-1]))\n",
    "    \n",
    "    if parameters[idx][0] in DSF_X_mvs:\n",
    "        x = combination[i][0][0]\n",
    "        \n",
    "    if parameters[idx][0] in DSF_X_uvs:\n",
    "        x = combination[i][0][1]\n",
    "\n",
    "    rho, pv = run(x, combination[i][1], parameters[idx]\n",
    "                  [0], parameters[idx][1], iter=10000)\n",
    "\n",
    "    l, h = st.norm.interval(alpha=0.95,\n",
    "                            loc=np.mean(r[idx][1]),\n",
    "                            scale=st.sem(r[idx][1]))\n",
    "\n",
    "    pvals_2.append(pv)\n",
    "\n",
    "    print(titles[i] + ': ' + 'rho ' + '%.4f' % float(rho) +\n",
    "          ' p ' + '%.4f' % float(pv) + ' mean ' + '%.4f' % float(m) +\n",
    "                  ' CI ' + '%.4f' % float(l) + '-' + '%.4f' % float(h) + ' achieved by '+parameters[idx][0] +\n",
    "          '-'+parameters[idx][1])"
   ]
  },
  {
   "cell_type": "code",
   "execution_count": 18,
   "metadata": {
    "ExecuteTime": {
     "end_time": "2022-04-16T10:00:25.074226Z",
     "start_time": "2022-04-16T10:00:25.051303Z"
    }
   },
   "outputs": [
    {
     "name": "stdout",
     "output_type": "stream",
     "text": [
      "KstestResult(statistic=0.31992721480041075, pvalue=1.5213347823314866e-91)\n",
      "KstestResult(statistic=0.3794368955245453, pvalue=6.61359141578811e-130)\n",
      "KstestResult(statistic=0.389774547597882, pvalue=2.4848404310464714e-137)\n",
      "KstestResult(statistic=0.3352181641981802, pvalue=1.0550868298298218e-100)\n",
      "KstestResult(statistic=0.38965332569329947, pvalue=3.0458598661989156e-137)\n",
      "KstestResult(statistic=0.45791574227403675, pvalue=2.9495550174583684e-192)\n"
     ]
    }
   ],
   "source": [
    "ks_test(bsm_top_SS)"
   ]
  },
  {
   "cell_type": "code",
   "execution_count": 19,
   "metadata": {
    "ExecuteTime": {
     "end_time": "2022-04-16T10:00:29.138665Z",
     "start_time": "2022-04-16T10:00:29.113653Z"
    }
   },
   "outputs": [
    {
     "name": "stdout",
     "output_type": "stream",
     "text": [
      "KstestResult(statistic=0.3505949784365307, pvalue=2.1438549702780275e-110)\n",
      "KstestResult(statistic=0.3642658609592575, pvalue=2.0052583832999195e-119)\n",
      "KstestResult(statistic=0.40269522957451154, pvalue=6.127528444405158e-147)\n",
      "KstestResult(statistic=0.32648179768441465, pvalue=2.061503533828175e-95)\n",
      "KstestResult(statistic=0.3556274491958561, pvalue=1.1296261522591022e-113)\n",
      "KstestResult(statistic=0.37215847046388595, pvalue=8.133841186017977e-125)\n"
     ]
    }
   ],
   "source": [
    "ks_test(bsm_top_SO)"
   ]
  },
  {
   "cell_type": "code",
   "execution_count": 20,
   "metadata": {
    "ExecuteTime": {
     "end_time": "2022-04-16T10:00:33.702152Z",
     "start_time": "2022-04-16T10:00:33.678887Z"
    }
   },
   "outputs": [
    {
     "name": "stdout",
     "output_type": "stream",
     "text": [
      "KstestResult(statistic=0.3124087413950852, pvalue=3.2562167420678575e-87)\n",
      "KstestResult(statistic=0.3180873992880921, pvalue=1.7881157963556512e-90)\n",
      "KstestResult(statistic=0.3695047619427754, pvalue=5.469309547242688e-123)\n",
      "KstestResult(statistic=0.2863416353453036, pvalue=4.5481207771305154e-73)\n",
      "KstestResult(statistic=0.31947863161715284, pvalue=2.77830933539362e-91)\n",
      "KstestResult(statistic=0.40744509595039435, pvalue=1.45405919237102e-150)\n"
     ]
    }
   ],
   "source": [
    "ks_test(bsm_top_OS)"
   ]
  },
  {
   "cell_type": "code",
   "execution_count": 21,
   "metadata": {
    "ExecuteTime": {
     "end_time": "2022-04-16T10:00:38.899500Z",
     "start_time": "2022-04-16T10:00:38.872712Z"
    },
    "code_folding": []
   },
   "outputs": [],
   "source": [
    "# Since p-values from Kolmogorov-Smirnov tests all less than .05, we next adopt Wilcoxon signed-rank tests rather than paired T-tests.\n",
    "tvals_SS, pvals_SS_2 = wcx_test(bsm_top_SS)\n",
    "tvals_SO, pvals_SO_2 = wcx_test(bsm_top_SO)\n",
    "tvals_OS, pvals_OS_2 = wcx_test(bsm_top_OS)"
   ]
  },
  {
   "cell_type": "code",
   "execution_count": 22,
   "metadata": {
    "ExecuteTime": {
     "end_time": "2022-04-16T10:00:42.089347Z",
     "start_time": "2022-04-16T10:00:42.077533Z"
    }
   },
   "outputs": [
    {
     "name": "stdout",
     "output_type": "stream",
     "text": [
      "stat=0.035, p=0.000\n",
      "stat=0.084, p=0.000\n",
      "stat=-0.134, p=0.000\n",
      "stat=0.049, p=0.000\n",
      "stat=-0.169, p=0.000\n",
      "stat=-0.218, p=0.000\n"
     ]
    }
   ],
   "source": [
    "\"\"\"\n",
    "SS and rsFC-LA: rho 0.2272 p 0.0002 mean 0.2094 CI 0.1995-0.2194 \n",
    "SS and rsFC-RA: rho 0.2025 p 0.0005 mean 0.1747 CI 0.1668-0.1826 \n",
    "SS and rsFC-LH: rho 0.1465 p 0.0082 mean 0.1256 CI 0.1162-0.1350 \n",
    "SS and rsFC-RH: rho 0.3600 p 0.0001 mean 0.3434 CI 0.3348-0.3520 \n",
    "\"\"\"\n",
    "\n",
    "for i in range(6):\n",
    "    print('stat=%.3f, p=%.3f' % (tvals_SS[i], pvals_SS_2[i]))"
   ]
  },
  {
   "cell_type": "code",
   "execution_count": 23,
   "metadata": {
    "ExecuteTime": {
     "end_time": "2022-04-16T10:00:46.122657Z",
     "start_time": "2022-04-16T10:00:46.113241Z"
    }
   },
   "outputs": [
    {
     "name": "stdout",
     "output_type": "stream",
     "text": [
      "stat=-0.012, p=0.004\n",
      "stat=-0.101, p=0.000\n",
      "stat=-0.119, p=0.000\n",
      "stat=-0.089, p=0.000\n",
      "stat=-0.107, p=0.000\n",
      "stat=-0.017, p=0.000\n"
     ]
    }
   ],
   "source": [
    "\"\"\"\n",
    "SO and rsFC-LA: rho 0.1304 p 0.0147 mean 0.1239 CI 0.1169-0.1310 \n",
    "SO and rsFC-RA: rho 0.1412 p 0.0099 mean 0.1359 CI 0.1266-0.1452 \n",
    "SO and rsFC-LH: rho 0.2383 p 0.0001 mean 0.2254 CI 0.2147-0.2360 \n",
    "SO and rsFC-RH: rho 0.2580 p 0.0001 mean 0.2427 CI 0.2347-0.2508 \n",
    "\"\"\"\n",
    "\n",
    "for i in range(6):\n",
    "    print('stat=%.3f, p=%.3f' % (tvals_SO[i], pvals_SO_2[i]))"
   ]
  },
  {
   "cell_type": "code",
   "execution_count": 24,
   "metadata": {
    "ExecuteTime": {
     "end_time": "2022-04-16T10:00:52.249309Z",
     "start_time": "2022-04-16T10:00:52.238933Z"
    }
   },
   "outputs": [
    {
     "name": "stdout",
     "output_type": "stream",
     "text": [
      "stat=0.027, p=0.000\n",
      "stat=0.030, p=0.000\n",
      "stat=0.148, p=0.000\n",
      "stat=0.003, p=0.975\n",
      "stat=0.121, p=0.000\n",
      "stat=0.118, p=0.000\n"
     ]
    }
   ],
   "source": [
    "\"\"\"\n",
    "OS and rsFC-LA: rho 0.3344 p 0.0001 mean 0.3164 CI 0.3078-0.3250 \n",
    "OS and rsFC-RA: rho 0.3161 p 0.0001 mean 0.2890 CI 0.2788-0.2993\n",
    "OS and rsFC-LH: rho 0.3128 p 0.0001 mean 0.2861 CI 0.2742-0.2980\n",
    "OS and rsFC-RH: rho 0.1912 p 0.0009 mean 0.1682 CI 0.1538-0.1825\n",
    "\"\"\"\n",
    "\n",
    "for i in range(6):\n",
    "    print('stat=%.3f, p=%.3f' % (tvals_OS[i], pvals_OS_2[i]))"
   ]
  },
  {
   "cell_type": "code",
   "execution_count": 25,
   "metadata": {
    "ExecuteTime": {
     "end_time": "2022-04-16T10:00:58.029551Z",
     "start_time": "2022-04-16T10:00:58.003530Z"
    }
   },
   "outputs": [
    {
     "data": {
      "text/plain": [
       "(array([ True,  True,  True,  True,  True,  True,  True, False, False,\n",
       "         True,  True, False,  True,  True,  True,  True,  True,  True,\n",
       "         True,  True,  True,  True,  True,  True,  True,  True,  True,\n",
       "         True,  True,  True,  True,  True,  True, False,  True,  True]),\n",
       " array([1.30399844e-004, 2.89135116e-011, 1.72019191e-038, 1.40834789e-004,\n",
       "        2.41651088e-053, 5.86422267e-038, 3.04137996e-024, 8.54102157e-001,\n",
       "        1.58656897e-001, 1.94785504e-046, 3.27623066e-041, 1.43802082e-001,\n",
       "        7.94874691e-109, 1.06446075e-026, 1.20198622e-105, 4.72236175e-086,\n",
       "        1.49865126e-020, 1.32232742e-067, 2.00566883e-006, 4.37948584e-045,\n",
       "        1.01330538e-082, 1.12599530e-013, 2.06341375e-093, 4.45970060e-156,\n",
       "        4.23947656e-003, 1.16665831e-045, 3.28777521e-086, 2.31164738e-026,\n",
       "        3.75812807e-048, 1.40834789e-004, 1.51965599e-004, 1.42051398e-004,\n",
       "        9.53447740e-063, 9.75112601e-001, 1.07955297e-032, 6.26199738e-066]),\n",
       " 0.0014237991678133222,\n",
       " 0.001388888888888889)"
      ]
     },
     "execution_count": 25,
     "metadata": {},
     "output_type": "execute_result"
    }
   ],
   "source": [
    "# In testing Hypothesis 2, We corrected multiple comparisons by controlling the expected FDR at 0.05.\n",
    "multipletests(pvals_SS_1+pvals_SO_1+pvals_OS_1+pvals_SS_2+pvals_SO_2+pvals_OS_2, alpha=0.05, method='fdr_bh', is_sorted=False, returnsorted=False)"
   ]
  },
  {
   "cell_type": "markdown",
   "metadata": {},
   "source": [
    "# rsFC-MMS"
   ]
  },
  {
   "cell_type": "code",
   "execution_count": 26,
   "metadata": {
    "ExecuteTime": {
     "end_time": "2022-04-16T10:01:16.391917Z",
     "start_time": "2022-04-16T10:01:02.363972Z"
    }
   },
   "outputs": [],
   "source": [
    "mode = 'rsFC-MMS'\n",
    "results_npp, results_pp, results_ppw, results_cpp_sd = load_bootstrapping_results(mode)\n",
    "parameters_npp, parameters_pp, parameters_ppw, parameters_cpp_sd, combination, titles = construct_parameter_configurations(mode)"
   ]
  },
  {
   "cell_type": "code",
   "execution_count": 27,
   "metadata": {
    "ExecuteTime": {
     "end_time": "2022-04-16T10:02:32.370929Z",
     "start_time": "2022-04-16T10:01:55.490509Z"
    }
   },
   "outputs": [
    {
     "name": "stderr",
     "output_type": "stream",
     "text": [
      "16it [00:36,  2.30s/it]\n"
     ]
    }
   ],
   "source": [
    "winner_npp_3, pvals_npp_3, bsm_npp_3 = model_selection(results_npp, combination, parameters_npp, titles, mms_pc='NPP')"
   ]
  },
  {
   "cell_type": "code",
   "execution_count": 28,
   "metadata": {
    "ExecuteTime": {
     "end_time": "2022-04-16T10:03:19.303078Z",
     "start_time": "2022-04-16T10:02:39.643888Z"
    }
   },
   "outputs": [
    {
     "name": "stderr",
     "output_type": "stream",
     "text": [
      "16it [00:39,  2.48s/it]\n"
     ]
    }
   ],
   "source": [
    "winner_pp_3, pvals_pp_3, bsm_pp_3 = model_selection(results_pp, combination, parameters_pp, titles)"
   ]
  },
  {
   "cell_type": "code",
   "execution_count": 29,
   "metadata": {
    "ExecuteTime": {
     "end_time": "2022-04-16T10:06:32.507808Z",
     "start_time": "2022-04-16T10:03:27.951734Z"
    }
   },
   "outputs": [
    {
     "name": "stderr",
     "output_type": "stream",
     "text": [
      "16it [03:04, 11.53s/it]\n"
     ]
    }
   ],
   "source": [
    "winner_ppw_3, pvals_ppw_3, bsm_ppw_3 = model_selection(results_ppw, combination, parameters_ppw, titles)"
   ]
  },
  {
   "cell_type": "code",
   "execution_count": 30,
   "metadata": {
    "ExecuteTime": {
     "end_time": "2022-04-16T10:07:26.378241Z",
     "start_time": "2022-04-16T10:06:44.619330Z"
    }
   },
   "outputs": [
    {
     "name": "stderr",
     "output_type": "stream",
     "text": [
      "16it [00:41,  2.61s/it]\n"
     ]
    }
   ],
   "source": [
    "winner_cpp_sd_3, pvals_cpp_sd_3, bsm_cpp_sd_3 = model_selection(results_cpp_sd, combination, parameters_cpp_sd, titles)"
   ]
  },
  {
   "cell_type": "code",
   "execution_count": 31,
   "metadata": {
    "ExecuteTime": {
     "end_time": "2022-04-16T10:07:33.493364Z",
     "start_time": "2022-04-16T10:07:33.469478Z"
    }
   },
   "outputs": [
    {
     "name": "stdout",
     "output_type": "stream",
     "text": [
      "CPP-SD: rsFC-LA and MMS-LA: rho 0.2097 p 0.0003 mean 0.1868 CI 0.1769-0.1966 achieved by mahalanobis-mahalanobis-25-mean-min-cosine\n",
      "CPP-SD: rsFC-LA and MMS-RA: rho 0.4942 p 0.0001 mean 0.4683 CI 0.4603-0.4764 achieved by cosine-pearson-50-max-min-manhattan\n",
      "CPP-SD: rsFC-LA and MMS-LH: rho 0.2171 p 0.0002 mean 0.2003 CI 0.1936-0.2071 achieved by pearson-cosine-25-None-pearson\n",
      "CPP-SD: rsFC-LA and MMS-RH: rho 0.3609 p 0.0001 mean 0.3492 CI 0.3424-0.3561 achieved by pearson-manhattan-50-mmm-pearson\n",
      "CPP-SD: rsFC-RA and MMS-LA: rho 0.1627 p 0.0038 mean 0.1632 CI 0.1558-0.1706 achieved by pearson-cosine-50-max-manhattan\n",
      "CPP-SD: rsFC-RA and MMS-RA: rho 0.3848 p 0.0001 mean 0.3676 CI 0.3589-0.3763 achieved by cosine-pearson-50-max-min-manhattan\n",
      "CPP-SD: rsFC-RA and MMS-LH: rho 0.2963 p 0.0001 mean 0.2778 CI 0.2691-0.2865 achieved by pearson-mahalanobis-50-max-mahalanobis\n",
      "CPP-SD: rsFC-RA and MMS-RH: rho 0.2698 p 0.0001 mean 0.2659 CI 0.2585-0.2732 achieved by euclidean-euclidean-50-max-mean-pearson\n",
      "CPP-SD: rsFC-LH and MMS-LA: rho 0.2608 p 0.0001 mean 0.2205 CI 0.2124-0.2287 achieved by mahalanobis-mahalanobis-50-mean-min-cosine\n",
      "CPP-SD: rsFC-LH and MMS-RA: rho 0.3738 p 0.0001 mean 0.3544 CI 0.3469-0.3619 achieved by cosine-cosine-25-min-cosine\n",
      "CPP-SD: rsFC-LH and MMS-LH: rho 0.2043 p 0.0003 mean 0.1653 CI 0.1532-0.1775 achieved by cosine-mahalanobis-50-max-mahalanobis\n",
      "CPP-SD: rsFC-LH and MMS-RH: rho 0.2581 p 0.0001 mean 0.2468 CI 0.2376-0.2559 achieved by cosine-cosine-50-max-min-cosine\n",
      "CPP-SD: rsFC-RH and MMS-LA: rho 0.1796 p 0.0008 mean 0.1685 CI 0.1563-0.1807 achieved by cosine-pearson-50-max-mean-mahalanobis\n",
      "CPP-SD: rsFC-RH and MMS-RA: rho 0.4421 p 0.0001 mean 0.4111 CI 0.4006-0.4215 achieved by cosine-pearson-50-mean-min-pearson\n",
      "CPP-SD: rsFC-RH and MMS-LH: rho 0.2771 p 0.0001 mean 0.2557 CI 0.2452-0.2662 achieved by cosine-mahalanobis-50-None-cosine\n",
      "CPP-SD: rsFC-RH and MMS-RH: rho 0.3787 p 0.0001 mean 0.3363 CI 0.3274-0.3451 achieved by cosine-mahalanobis-25-min-cosine\n"
     ]
    }
   ],
   "source": [
    "pvals_all_3 = eval_all(combination, winner_npp_3, winner_pp_3, winner_ppw_3,\n",
    "                       winner_cpp_sd_3, pvals_npp_3, pvals_pp_3, pvals_ppw_3, pvals_cpp_sd_3, titles)"
   ]
  },
  {
   "cell_type": "code",
   "execution_count": 32,
   "metadata": {
    "ExecuteTime": {
     "end_time": "2022-04-16T10:07:39.757313Z",
     "start_time": "2022-04-16T10:07:39.743735Z"
    }
   },
   "outputs": [
    {
     "data": {
      "text/plain": [
       "(array([ True,  True,  True,  True,  True,  True,  True,  True,  True,\n",
       "         True,  True,  True,  True,  True,  True,  True,  True,  True,\n",
       "         True,  True,  True,  True,  True,  True,  True,  True,  True,\n",
       "         True,  True,  True,  True,  True,  True,  True,  True,  True,\n",
       "         True,  True,  True,  True]),\n",
       " array([0.00014284, 0.00014284, 0.00014284, 0.00014284, 0.00014284,\n",
       "        0.00014284, 0.00014284, 0.00014284, 0.00014284, 0.00014284,\n",
       "        0.00014284, 0.00014284, 0.00025804, 0.00025804, 0.00778869,\n",
       "        0.00014284, 0.01449855, 0.00861452, 0.00035291, 0.00014284,\n",
       "        0.00014284, 0.00014284, 0.00014284, 0.00057137, 0.00035291,\n",
       "        0.00014284, 0.00025804, 0.00014284, 0.0041077 , 0.00014284,\n",
       "        0.00014284, 0.00014284, 0.00014284, 0.00014284, 0.00035291,\n",
       "        0.00014284, 0.0008888 , 0.00014284, 0.00014284, 0.00014284]),\n",
       " 0.0012815105228752843,\n",
       " 0.00125)"
      ]
     },
     "execution_count": 32,
     "metadata": {},
     "output_type": "execute_result"
    }
   ],
   "source": [
    "# In testing Hypothesis 1, We corrected multiple comparisons by controlling the expected FDR at 0.05.\n",
    "multipletests(pvals_all_1+pvals_2+pvals_all_3, alpha=0.05, method='fdr_bh', is_sorted=False, returnsorted=False)"
   ]
  }
 ],
 "metadata": {
  "kernelspec": {
   "display_name": "Python 3 (ipykernel)",
   "language": "python",
   "name": "python3"
  },
  "language_info": {
   "codemirror_mode": {
    "name": "ipython",
    "version": 3
   },
   "file_extension": ".py",
   "mimetype": "text/x-python",
   "name": "python",
   "nbconvert_exporter": "python",
   "pygments_lexer": "ipython3",
   "version": "3.9.7"
  },
  "latex_envs": {
   "LaTeX_envs_menu_present": true,
   "autoclose": false,
   "autocomplete": true,
   "bibliofile": "biblio.bib",
   "cite_by": "apalike",
   "current_citInitial": 1,
   "eqLabelWithNumbers": true,
   "eqNumInitial": 1,
   "hotkeys": {
    "equation": "Ctrl-E",
    "itemize": "Ctrl-I"
   },
   "labels_anchors": false,
   "latex_user_defs": false,
   "report_style_numbering": false,
   "user_envs_cfg": false
  },
  "toc": {
   "base_numbering": 1,
   "nav_menu": {},
   "number_sections": false,
   "sideBar": true,
   "skip_h1_title": false,
   "title_cell": "Table of Contents",
   "title_sidebar": "Contents",
   "toc_cell": false,
   "toc_position": {
    "height": "calc(100% - 180px)",
    "left": "10px",
    "top": "150px",
    "width": "165px"
   },
   "toc_section_display": true,
   "toc_window_display": true
  },
  "varInspector": {
   "cols": {
    "lenName": 16,
    "lenType": 16,
    "lenVar": 40
   },
   "kernels_config": {
    "python": {
     "delete_cmd_postfix": "",
     "delete_cmd_prefix": "del ",
     "library": "var_list.py",
     "varRefreshCmd": "print(var_dic_list())"
    },
    "r": {
     "delete_cmd_postfix": ") ",
     "delete_cmd_prefix": "rm(",
     "library": "var_list.r",
     "varRefreshCmd": "cat(var_dic_list()) "
    }
   },
   "types_to_exclude": [
    "module",
    "function",
    "builtin_function_or_method",
    "instance",
    "_Feature"
   ],
   "window_display": false
  }
 },
 "nbformat": 4,
 "nbformat_minor": 4
}
