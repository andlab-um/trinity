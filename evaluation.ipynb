{
 "cells": [
  {
   "cell_type": "code",
   "execution_count": 1,
   "metadata": {
    "ExecuteTime": {
     "end_time": "2023-01-20T15:49:53.035243Z",
     "start_time": "2023-01-20T15:49:48.352602Z"
    }
   },
   "outputs": [],
   "source": [
    "from eval import *"
   ]
  },
  {
   "cell_type": "markdown",
   "metadata": {},
   "source": [
    "# IMQ-MMS"
   ]
  },
  {
   "cell_type": "code",
   "execution_count": 2,
   "metadata": {
    "ExecuteTime": {
     "end_time": "2023-01-20T15:50:31.558240Z",
     "start_time": "2023-01-20T15:50:22.281220Z"
    }
   },
   "outputs": [],
   "source": [
    "mode = 'IMQ-MMS'\n",
    "results_npp, results_pp, results_ppw, results_cpp_sd = load_bootstrapping_results(mode)\n",
    "parameters_npp, parameters_pp, parameters_ppw, parameters_cpp_sd, combination, titles = construct_parameter_configurations(mode)"
   ]
  },
  {
   "cell_type": "code",
   "execution_count": 3,
   "metadata": {
    "ExecuteTime": {
     "end_time": "2023-01-20T15:51:51.526331Z",
     "start_time": "2023-01-20T15:51:09.723051Z"
    }
   },
   "outputs": [
    {
     "name": "stderr",
     "output_type": "stream",
     "text": [
      "12it [00:41,  3.48s/it]\n"
     ]
    }
   ],
   "source": [
    "winner_npp_1, pvals_npp_1, bsm_npp_1 = model_selection(results_npp, combination, parameters_npp, titles, mms_pc='NPP')"
   ]
  },
  {
   "cell_type": "code",
   "execution_count": 4,
   "metadata": {
    "ExecuteTime": {
     "end_time": "2023-01-20T15:52:44.549141Z",
     "start_time": "2023-01-20T15:52:04.359376Z"
    }
   },
   "outputs": [
    {
     "name": "stderr",
     "output_type": "stream",
     "text": [
      "12it [00:40,  3.35s/it]\n"
     ]
    }
   ],
   "source": [
    "winner_pp_1, pvals_pp_1, bsm_pp_1 = model_selection(results_pp, combination, parameters_pp, titles)"
   ]
  },
  {
   "cell_type": "code",
   "execution_count": 5,
   "metadata": {
    "ExecuteTime": {
     "end_time": "2023-01-20T15:55:23.584298Z",
     "start_time": "2023-01-20T15:53:32.134136Z"
    }
   },
   "outputs": [
    {
     "name": "stderr",
     "output_type": "stream",
     "text": [
      "12it [01:51,  9.29s/it]\n"
     ]
    }
   ],
   "source": [
    "winner_ppw_1, pvals_ppw_1, bsm_ppw_1 = model_selection(results_ppw, combination, parameters_ppw, titles)"
   ]
  },
  {
   "cell_type": "code",
   "execution_count": 6,
   "metadata": {
    "ExecuteTime": {
     "end_time": "2023-01-20T15:56:22.430529Z",
     "start_time": "2023-01-20T15:55:38.407178Z"
    }
   },
   "outputs": [
    {
     "name": "stderr",
     "output_type": "stream",
     "text": [
      "12it [00:44,  3.67s/it]\n"
     ]
    }
   ],
   "source": [
    "winner_cpp_sd_1, pvals_cpp_sd_1, bsm_cpp_sd_1 = model_selection(results_cpp_sd, combination, parameters_cpp_sd, titles)"
   ]
  },
  {
   "cell_type": "code",
   "execution_count": 7,
   "metadata": {
    "ExecuteTime": {
     "end_time": "2023-01-20T15:56:30.991361Z",
     "start_time": "2023-01-20T15:56:30.973187Z"
    }
   },
   "outputs": [
    {
     "name": "stdout",
     "output_type": "stream",
     "text": [
      "CPP-SD: SS and MMS-LA: rho 0.3981 p 0.0001 mean 0.3677 CI 0.3569-0.3785 achieved by max-euclidean-25-mmm-cosine\n",
      "PP:     SS and MMS-RA: rho 0.4227 p 0.0001 mean 0.3947 CI 0.3861-0.4034 achieved by euclidean-pearson-25-max-min\n",
      "CPP-SD: SS and MMS-LH: rho 0.4361 p 0.0001 mean 0.4127 CI 0.4055-0.4199 achieved by euclidean-pearson-50-max-pearson\n",
      "CPP-SD: SS and MMS-RH: rho 0.5302 p 0.0001 mean 0.5168 CI 0.5051-0.5284 achieved by max-euclidean-25-min-pearson\n",
      "PPw:    SO and MMS-LA: rho 0.4883 p 0.0001 mean 0.4607 CI 0.4478-0.4736 achieved by min-wrd-50-max\n",
      "PP:     SO and MMS-RA: rho 0.4022 p 0.0001 mean 0.3821 CI 0.3751-0.3891 achieved by euclidean-pearson-25-max\n",
      "CPP-SD: SO and MMS-LH: rho 0.5048 p 0.0001 mean 0.4678 CI 0.4601-0.4755 achieved by min-euclidean-50-mmm-cosine\n",
      "CPP-SD: SO and MMS-RH: rho 0.5156 p 0.0001 mean 0.4766 CI 0.4657-0.4875 achieved by max-mahalanobis-25-max-manhattan\n",
      "CPP-SD: OS and MMS-LA: rho 0.2838 p 0.0001 mean 0.2890 CI 0.2801-0.2980 achieved by abs*mean-euclidean-25-min-cosine\n",
      "CPP-SD: OS and MMS-RA: rho 0.5627 p 0.0001 mean 0.5153 CI 0.5051-0.5255 achieved by mahalanobis-pearson-25-max-manhattan\n",
      "CPP-SD: OS and MMS-LH: rho 0.3761 p 0.0001 mean 0.3548 CI 0.3453-0.3643 achieved by cosine-euclidean-50-None-manhattan\n",
      "CPP-SD: OS and MMS-RH: rho 0.4764 p 0.0001 mean 0.4433 CI 0.4321-0.4544 achieved by cosine-manhattan-50-max-mean-cosine\n"
     ]
    }
   ],
   "source": [
    "pvals_all_1 = eval_all(combination, winner_npp_1, winner_pp_1, winner_ppw_1,\n",
    "                       winner_cpp_sd_1, pvals_npp_1, pvals_pp_1, pvals_ppw_1, pvals_cpp_sd_1, titles)"
   ]
  },
  {
   "cell_type": "code",
   "execution_count": 8,
   "metadata": {
    "ExecuteTime": {
     "end_time": "2023-01-20T15:56:39.164891Z",
     "start_time": "2023-01-20T15:56:39.153618Z"
    }
   },
   "outputs": [],
   "source": [
    "bsm_top_SS, bsm_top_SO, bsm_top_OS = [], [], []\n",
    "bsm_top_SS.append(bsm_cpp_sd_1[0])\n",
    "bsm_top_SS.append(bsm_pp_1[1])\n",
    "bsm_top_SS.append(bsm_cpp_sd_1[2])\n",
    "bsm_top_SS.append(bsm_cpp_sd_1[3])\n",
    "bsm_top_SO.append(bsm_ppw_1[4])\n",
    "bsm_top_SO.append(bsm_pp_1[5])\n",
    "bsm_top_SO.append(bsm_cpp_sd_1[6])\n",
    "bsm_top_SO.append(bsm_cpp_sd_1[7])\n",
    "bsm_top_OS.append(bsm_cpp_sd_1[8])\n",
    "bsm_top_OS.append(bsm_cpp_sd_1[9])\n",
    "bsm_top_OS.append(bsm_cpp_sd_1[10])\n",
    "bsm_top_OS.append(bsm_cpp_sd_1[11])"
   ]
  },
  {
   "cell_type": "code",
   "execution_count": 9,
   "metadata": {
    "ExecuteTime": {
     "end_time": "2023-01-20T15:56:41.841745Z",
     "start_time": "2023-01-20T15:56:41.822233Z"
    }
   },
   "outputs": [
    {
     "name": "stdout",
     "output_type": "stream",
     "text": [
      "KstestResult(statistic=0.32017525080887776, pvalue=1.0900049460037837e-91, statistic_location=0.3393441302740732, statistic_sign=1)\n",
      "KstestResult(statistic=0.34872373009107605, pvalue=3.4413976934304813e-109, statistic_location=0.30095676926376436, statistic_sign=1)\n",
      "KstestResult(statistic=0.2879184130239538, pvalue=6.920910279549706e-74, statistic_location=0.44566835559966744, statistic_sign=1)\n",
      "KstestResult(statistic=0.3589383107955064, pvalue=7.367749933898348e-116, statistic_location=0.2638745050448916, statistic_sign=1)\n",
      "KstestResult(statistic=0.35574828635923306, pvalue=9.409566260322012e-114, statistic_location=0.2721631525947755, statistic_sign=1)\n",
      "KstestResult(statistic=0.33518491202852496, pvalue=1.1059130601484301e-100, statistic_location=0.3552933670725713, statistic_sign=1)\n"
     ]
    }
   ],
   "source": [
    "ks_test(bsm_top_SS)"
   ]
  },
  {
   "cell_type": "code",
   "execution_count": 10,
   "metadata": {
    "ExecuteTime": {
     "end_time": "2023-01-20T15:56:46.767657Z",
     "start_time": "2023-01-20T15:56:46.748538Z"
    }
   },
   "outputs": [
    {
     "name": "stdout",
     "output_type": "stream",
     "text": [
      "KstestResult(statistic=0.31200705604641527, pvalue=5.506715801513654e-87, statistic_location=-0.3212590159365808, statistic_sign=-1)\n",
      "KstestResult(statistic=0.3328018413155317, pvalue=3.178288063927411e-99, statistic_location=0.33768088289696124, statistic_sign=1)\n",
      "KstestResult(statistic=0.26863289630733544, pvalue=3.232656044868573e-64, statistic_location=0.4436912913179701, statistic_sign=1)\n",
      "KstestResult(statistic=0.3663085071950839, pvalue=8.305814341712308e-121, statistic_location=0.2370512718726874, statistic_sign=1)\n",
      "KstestResult(statistic=0.361412928122286, pvalue=1.654854925983289e-117, statistic_location=0.29652934996403313, statistic_sign=1)\n",
      "KstestResult(statistic=0.31036079608970896, pvalue=4.7064746500633106e-86, statistic_location=-0.3870467584203281, statistic_sign=-1)\n"
     ]
    }
   ],
   "source": [
    "ks_test(bsm_top_SO)"
   ]
  },
  {
   "cell_type": "code",
   "execution_count": 11,
   "metadata": {
    "ExecuteTime": {
     "end_time": "2023-01-20T15:56:51.925037Z",
     "start_time": "2023-01-20T15:56:51.906081Z"
    }
   },
   "outputs": [
    {
     "name": "stdout",
     "output_type": "stream",
     "text": [
      "KstestResult(statistic=0.38205304435619136, pvalue=9.187193792971642e-132, statistic_location=0.20431661272609675, statistic_sign=1)\n",
      "KstestResult(statistic=0.36419051667900626, pvalue=2.254274853184642e-119, statistic_location=0.2632199780195771, statistic_sign=1)\n",
      "KstestResult(statistic=0.40495918596299074, pvalue=1.1637936636965682e-148, statistic_location=0.13334774215542516, statistic_sign=1)\n",
      "KstestResult(statistic=0.3753200675295269, pvalue=5.16757640137947e-127, statistic_location=-0.1934071259985563, statistic_sign=-1)\n",
      "KstestResult(statistic=0.34689276135450564, pvalue=5.120343438794434e-108, statistic_location=-0.3057624472081441, statistic_sign=-1)\n",
      "KstestResult(statistic=0.40207089024169174, pvalue=1.819724324034304e-146, statistic_location=0.18638636978222278, statistic_sign=1)\n"
     ]
    }
   ],
   "source": [
    "ks_test(bsm_top_OS)"
   ]
  },
  {
   "cell_type": "code",
   "execution_count": 12,
   "metadata": {
    "ExecuteTime": {
     "end_time": "2023-01-20T15:56:57.101583Z",
     "start_time": "2023-01-20T15:56:57.066858Z"
    }
   },
   "outputs": [],
   "source": [
    "# Since p-values from Kolmogorov-Smirnov tests all less than .05, we next adopt Wilcoxon signed-rank tests rather than paired T-tests.\n",
    "tvals_SS_1, zvals_SS_1, pvals_SS_1 = wcx_test(bsm_top_SS)\n",
    "tvals_SO_1, zvals_SO_1, pvals_SO_1 = wcx_test(bsm_top_SO)\n",
    "tvals_OS_1, zvals_OS_1, pvals_OS_1 = wcx_test(bsm_top_OS)"
   ]
  },
  {
   "cell_type": "code",
   "execution_count": 13,
   "metadata": {
    "ExecuteTime": {
     "end_time": "2023-01-20T15:57:01.204586Z",
     "start_time": "2023-01-20T15:57:01.196194Z"
    }
   },
   "outputs": [
    {
     "name": "stdout",
     "output_type": "stream",
     "text": [
      "mean=-0.0270 [-0.0409, -0.0132], z=-3.90, p=0.0001\n",
      "mean=-0.0450 [-0.0571, -0.0329], z=-6.71, p=0.0000\n",
      "mean=-0.1491 [-0.1695, -0.1286], z=-13.03, p=0.0000\n",
      "mean=-0.0179 [-0.0280, -0.0079], z=-3.87, p=0.0001\n",
      "mean=-0.1220 [-0.1358, -0.1083], z=-15.45, p=0.0000\n",
      "mean=-0.1041 [-0.1189, -0.0893], z=-12.93, p=0.0000\n"
     ]
    }
   ],
   "source": [
    "\"\"\"\n",
    "CPP-SD: SS and MMS-LA: rho 0.3981 p 0.0001 mean 0.3677 CI 0.3569-0.3785\n",
    "PP:     SS and MMS-RA: rho 0.4228 p 0.0001 mean 0.3947 CI 0.3861-0.4034\n",
    "CPP-SD: SS and MMS-LH: rho 0.4347 p 0.0001 mean 0.4127 CI 0.4055-0.4199\n",
    "CPP-SD: SS and MMS-RH: rho 0.5302 p 0.0001 mean 0.5168 CI 0.5051-0.5284\n",
    "\"\"\"\n",
    "\n",
    "for i in range(6):\n",
    "    print('mean=%.4f [%.4f, %.4f], z=%.2f, p=%.4f' % (tvals_SS_1[i][0], tvals_SS_1[i][1], tvals_SS_1[i][2], zvals_SS_1[i], pvals_SS_1[i]))"
   ]
  },
  {
   "cell_type": "code",
   "execution_count": 14,
   "metadata": {
    "ExecuteTime": {
     "end_time": "2023-01-20T15:57:05.751604Z",
     "start_time": "2023-01-20T15:57:05.743398Z"
    },
    "code_folding": []
   },
   "outputs": [
    {
     "name": "stdout",
     "output_type": "stream",
     "text": [
      "mean=0.0786 [0.0634, 0.0938], z=-10.21, p=0.0000\n",
      "mean=-0.0071 [-0.0201, 0.0059], z=-0.21, p=0.8304\n",
      "mean=-0.0159 [-0.0346, 0.0028], z=-1.44, p=0.1498\n",
      "mean=-0.0857 [-0.0966, -0.0749], z=-14.38, p=0.0000\n",
      "mean=-0.0945 [-0.1070, -0.0820], z=-13.51, p=0.0000\n",
      "mean=-0.0088 [-0.0230, 0.0055], z=-1.51, p=0.1318\n"
     ]
    }
   ],
   "source": [
    "\"\"\"\n",
    "PPw:    SO and MMS-LA: rho 0.4883 p 0.0001 mean 0.4607 CI 0.4478-0.4736 \n",
    "PP:     SO and MMS-RA: rho 0.4030 p 0.0001 mean 0.3821 CI 0.3751-0.3891 \n",
    "CPP-SD: SO and MMS-LH: rho 0.5048 p 0.0001 mean 0.4678 CI 0.4601-0.4755 \n",
    "CPP-SD: SO and MMS-RH: rho 0.5156 p 0.0001 mean 0.4766 CI 0.4657-0.4875\n",
    "\"\"\"\n",
    "\n",
    "for i in range(6):\n",
    "    print('mean=%.4f [%.4f, %.4f], z=%.2f, p=%.4f' % (tvals_SO_1[i][0], tvals_SO_1[i][1], tvals_SO_1[i][2], zvals_SO_1[i], pvals_SO_1[i]))"
   ]
  },
  {
   "cell_type": "code",
   "execution_count": 15,
   "metadata": {
    "ExecuteTime": {
     "end_time": "2023-01-20T15:57:15.909928Z",
     "start_time": "2023-01-20T15:57:15.898456Z"
    }
   },
   "outputs": [
    {
     "name": "stdout",
     "output_type": "stream",
     "text": [
      "mean=-0.2262 [-0.2411, -0.2114], z=-22.29, p=0.0000\n",
      "mean=-0.0658 [-0.0771, -0.0544], z=-10.75, p=0.0000\n",
      "mean=-0.1542 [-0.1646, -0.1438], z=-21.94, p=0.0000\n",
      "mean=0.1605 [0.1474, 0.1735], z=-19.75, p=0.0000\n",
      "mean=0.0720 [0.0583, 0.0857], z=-9.34, p=0.0000\n",
      "mean=-0.0884 [-0.0971, -0.0797], z=-17.46, p=0.0000\n"
     ]
    }
   ],
   "source": [
    "\"\"\"\n",
    "CPP-SD: OS and MMS-LA: rho 0.2954 p 0.0001 mean 0.2890 CI 0.2801-0.2980 \n",
    "CPP-SD: OS and MMS-RA: rho 0.5627 p 0.0001 mean 0.5153 CI 0.5051-0.5255 \n",
    "CPP-SD: OS and MMS-LH: rho 0.3762 p 0.0001 mean 0.3548 CI 0.3453-0.3643 \n",
    "CPP-SD: OS and MMS-RH: rho 0.4763 p 0.0001 mean 0.4433 CI 0.4321-0.4544 \n",
    "\"\"\"\n",
    "\n",
    "for i in range(6):\n",
    "    print('mean=%.4f [%.4f, %.4f], z=%.2f, p=%.4f' % (tvals_OS_1[i][0], tvals_OS_1[i][1], tvals_OS_1[i][2], zvals_OS_1[i], pvals_OS_1[i]))"
   ]
  },
  {
   "cell_type": "markdown",
   "metadata": {},
   "source": [
    "# IMQ-rsFC"
   ]
  },
  {
   "cell_type": "code",
   "execution_count": 16,
   "metadata": {
    "ExecuteTime": {
     "end_time": "2023-01-20T15:57:20.846625Z",
     "start_time": "2023-01-20T15:57:20.726252Z"
    }
   },
   "outputs": [],
   "source": [
    "mode = 'IMQ-rsFC'\n",
    "results = load_bootstrapping_results(mode)\n",
    "parameters, combination, titles = construct_parameter_configurations(mode)"
   ]
  },
  {
   "cell_type": "code",
   "execution_count": 17,
   "metadata": {
    "ExecuteTime": {
     "end_time": "2023-01-20T15:58:17.715123Z",
     "start_time": "2023-01-20T15:57:42.433920Z"
    }
   },
   "outputs": [
    {
     "name": "stdout",
     "output_type": "stream",
     "text": [
      "SS and rsFC-LA: rho 0.2272 p 0.0002 mean 0.2094 CI 0.1995-0.2194 achieved by max-euclidean\n",
      "SS and rsFC-RA: rho 0.2025 p 0.0002 mean 0.1747 CI 0.1668-0.1826 achieved by mahalanobis-pearson\n",
      "SS and rsFC-LH: rho 0.1465 p 0.0071 mean 0.1256 CI 0.1162-0.1350 achieved by max-mahalanobis\n",
      "SS and rsFC-RH: rho 0.3600 p 0.0001 mean 0.3434 CI 0.3348-0.3520 achieved by max-mahalanobis\n",
      "SO and rsFC-LA: rho 0.1345 p 0.0140 mean 0.1239 CI 0.1169-0.1310 achieved by euclidean-pearson\n",
      "SO and rsFC-RA: rho 0.1412 p 0.0097 mean 0.1359 CI 0.1266-0.1452 achieved by max-pearson\n",
      "SO and rsFC-LH: rho 0.2383 p 0.0001 mean 0.2254 CI 0.2147-0.2360 achieved by pearson-cosine\n",
      "SO and rsFC-RH: rho 0.2580 p 0.0001 mean 0.2427 CI 0.2347-0.2508 achieved by pearson-pearson\n",
      "OS and rsFC-LA: rho 0.3297 p 0.0001 mean 0.3164 CI 0.3078-0.3250 achieved by euclidean-cosine\n",
      "OS and rsFC-RA: rho 0.3161 p 0.0001 mean 0.2890 CI 0.2788-0.2993 achieved by min-mahalanobis\n",
      "OS and rsFC-LH: rho 0.3128 p 0.0001 mean 0.2861 CI 0.2742-0.2980 achieved by max-cosine\n",
      "OS and rsFC-RH: rho 0.1912 p 0.0005 mean 0.1682 CI 0.1538-0.1825 achieved by max-cosine\n"
     ]
    }
   ],
   "source": [
    "pvals_2, bsm_top_SS, bsm_top_SO, bsm_top_OS = [], [], [], []\n",
    "\n",
    "\n",
    "for i, r in enumerate(results):\n",
    "\n",
    "    idx, m = sorted([m for m in enumerate(mean(r, 50))],\n",
    "                    key=lambda x: x[-1],\n",
    "                    reverse=True)[0]\n",
    "    \n",
    "    if i in [0, 1, 2, 3]:\n",
    "        bsm_top_SS.append((m, r[idx][-1]))\n",
    "        \n",
    "    if i in [4, 5, 6, 7]:\n",
    "        bsm_top_SO.append((m, r[idx][-1]))\n",
    "        \n",
    "    if i in [8, 9, 10, 11]:\n",
    "        bsm_top_OS.append((m, r[idx][-1]))\n",
    "    \n",
    "    if parameters[idx][0] in DSF_X_mvs:\n",
    "        x = combination[i][0][0]\n",
    "        \n",
    "    if parameters[idx][0] in DSF_X_uvs:\n",
    "        x = combination[i][0][1]\n",
    "\n",
    "    rho, pv = run(x, combination[i][1], parameters[idx]\n",
    "                  [0], parameters[idx][1], iter=10000)\n",
    "\n",
    "    l, h = st.norm.interval(alpha=0.95,\n",
    "                            loc=np.mean(r[idx][1]),\n",
    "                            scale=st.sem(r[idx][1]))\n",
    "\n",
    "    pvals_2.append(pv)\n",
    "\n",
    "    print(titles[i] + ': ' + 'rho ' + '%.4f' % float(rho) +\n",
    "          ' p ' + '%.4f' % float(pv) + ' mean ' + '%.4f' % float(m) +\n",
    "                  ' CI ' + '%.4f' % float(l) + '-' + '%.4f' % float(h) + ' achieved by '+parameters[idx][0] +\n",
    "          '-'+parameters[idx][1])"
   ]
  },
  {
   "cell_type": "code",
   "execution_count": 18,
   "metadata": {
    "ExecuteTime": {
     "end_time": "2023-01-20T15:58:43.070562Z",
     "start_time": "2023-01-20T15:58:43.057702Z"
    }
   },
   "outputs": [
    {
     "name": "stdout",
     "output_type": "stream",
     "text": [
      "KstestResult(statistic=0.31992721480041075, pvalue=1.5213347823314866e-91, statistic_location=-0.3320461258272615, statistic_sign=-1)\n",
      "KstestResult(statistic=0.3794368955245453, pvalue=6.61359141578811e-130, statistic_location=-0.24962961885446977, statistic_sign=-1)\n",
      "KstestResult(statistic=0.389774547597882, pvalue=2.4848404310464714e-137, statistic_location=0.21527990579453143, statistic_sign=1)\n",
      "KstestResult(statistic=0.3352181641981802, pvalue=1.0550868298298218e-100, statistic_location=-0.26834167720512386, statistic_sign=-1)\n",
      "KstestResult(statistic=0.38965332569329947, pvalue=3.0458598661989156e-137, statistic_location=0.2053397989933766, statistic_sign=1)\n",
      "KstestResult(statistic=0.45791574227403675, pvalue=2.9495550174583684e-192, statistic_location=0.02528017799365556, statistic_sign=1)\n"
     ]
    }
   ],
   "source": [
    "ks_test(bsm_top_SS)"
   ]
  },
  {
   "cell_type": "code",
   "execution_count": 19,
   "metadata": {
    "ExecuteTime": {
     "end_time": "2023-01-20T15:58:50.768256Z",
     "start_time": "2023-01-20T15:58:50.748955Z"
    }
   },
   "outputs": [
    {
     "name": "stdout",
     "output_type": "stream",
     "text": [
      "KstestResult(statistic=0.3505949784365307, pvalue=2.1438549702780275e-110, statistic_location=-0.27516437320437226, statistic_sign=-1)\n",
      "KstestResult(statistic=0.3642658609592575, pvalue=2.0052583832999195e-119, statistic_location=0.2786261765863451, statistic_sign=1)\n",
      "KstestResult(statistic=0.40269522957451154, pvalue=6.127528444405158e-147, statistic_location=0.2001152342351314, statistic_sign=1)\n",
      "KstestResult(statistic=0.32648179768441465, pvalue=2.061503533828175e-95, statistic_location=0.2806699026681077, statistic_sign=1)\n",
      "KstestResult(statistic=0.3556274491958561, pvalue=1.1296261522591022e-113, statistic_location=0.23107710884499877, statistic_sign=1)\n",
      "KstestResult(statistic=0.37215847046388595, pvalue=8.133841186017977e-125, statistic_location=0.24776408979328193, statistic_sign=1)\n"
     ]
    }
   ],
   "source": [
    "ks_test(bsm_top_SO)"
   ]
  },
  {
   "cell_type": "code",
   "execution_count": 20,
   "metadata": {
    "ExecuteTime": {
     "end_time": "2023-01-20T15:58:58.096138Z",
     "start_time": "2023-01-20T15:58:58.073809Z"
    }
   },
   "outputs": [
    {
     "name": "stdout",
     "output_type": "stream",
     "text": [
      "KstestResult(statistic=0.3124087413950852, pvalue=3.2562167420678575e-87, statistic_location=-0.430519915518982, statistic_sign=-1)\n",
      "KstestResult(statistic=0.3180873992880921, pvalue=1.7881157963556512e-90, statistic_location=-0.3078784837231886, statistic_sign=-1)\n",
      "KstestResult(statistic=0.3695047619427754, pvalue=5.469309547242688e-123, statistic_location=-0.24170400776127327, statistic_sign=-1)\n",
      "KstestResult(statistic=0.2863416353453036, pvalue=4.5481207771305154e-73, statistic_location=-0.4060807482390183, statistic_sign=-1)\n",
      "KstestResult(statistic=0.31947863161715284, pvalue=2.77830933539362e-91, statistic_location=-0.37057076098220365, statistic_sign=-1)\n",
      "KstestResult(statistic=0.40744509595039435, pvalue=1.45405919237102e-150, statistic_location=-0.16506834032181394, statistic_sign=-1)\n"
     ]
    }
   ],
   "source": [
    "ks_test(bsm_top_OS)"
   ]
  },
  {
   "cell_type": "code",
   "execution_count": 21,
   "metadata": {
    "ExecuteTime": {
     "end_time": "2023-01-20T15:59:12.397288Z",
     "start_time": "2023-01-20T15:59:12.364120Z"
    },
    "code_folding": []
   },
   "outputs": [],
   "source": [
    "# Since p-values from Kolmogorov-Smirnov tests all less than .05, we next adopt Wilcoxon signed-rank tests rather than paired T-tests.\n",
    "tvals_SS_2, zvals_SS_2, pvals_SS_2 = wcx_test(bsm_top_SS)\n",
    "tvals_SO_2, zvals_SO_2, pvals_SO_2 = wcx_test(bsm_top_SO)\n",
    "tvals_OS_2, zvals_OS_2, pvals_OS_2 = wcx_test(bsm_top_OS)"
   ]
  },
  {
   "cell_type": "code",
   "execution_count": 22,
   "metadata": {
    "ExecuteTime": {
     "end_time": "2023-01-20T15:59:23.255870Z",
     "start_time": "2023-01-20T15:59:23.246977Z"
    }
   },
   "outputs": [
    {
     "name": "stdout",
     "output_type": "stream",
     "text": [
      "mean=0.0347 [0.0209, 0.0485], z=-4.82, p=0.0000\n",
      "mean=0.0838 [0.0731, 0.0944], z=-14.15, p=0.0000\n",
      "mean=-0.1340 [-0.1451, -0.1228], z=-19.35, p=0.0000\n",
      "mean=0.0491 [0.0360, 0.0622], z=-7.48, p=0.0000\n",
      "mean=-0.1687 [-0.1813, -0.1560], z=-20.61, p=0.0000\n",
      "mean=-0.2177 [-0.2258, -0.2097], z=-26.75, p=0.0000\n"
     ]
    }
   ],
   "source": [
    "\"\"\"\n",
    "SS and rsFC-LA: rho 0.2272 p 0.0002 mean 0.2094 CI 0.1995-0.2194 \n",
    "SS and rsFC-RA: rho 0.2025 p 0.0005 mean 0.1747 CI 0.1668-0.1826 \n",
    "SS and rsFC-LH: rho 0.1465 p 0.0082 mean 0.1256 CI 0.1162-0.1350 \n",
    "SS and rsFC-RH: rho 0.3600 p 0.0001 mean 0.3434 CI 0.3348-0.3520 \n",
    "\"\"\"\n",
    "\n",
    "for i in range(6):\n",
    "    print('mean=%.4f [%.4f, %.4f], z=%.2f, p=%.4f' % (tvals_SS_2[i][0], tvals_SS_2[i][1], tvals_SS_2[i][2], zvals_SS_2[i], pvals_SS_2[i]))"
   ]
  },
  {
   "cell_type": "code",
   "execution_count": 23,
   "metadata": {
    "ExecuteTime": {
     "end_time": "2023-01-20T15:59:29.232547Z",
     "start_time": "2023-01-20T15:59:29.225966Z"
    }
   },
   "outputs": [
    {
     "name": "stdout",
     "output_type": "stream",
     "text": [
      "mean=-0.0120 [-0.0220, -0.0020], z=-2.90, p=0.0038\n",
      "mean=-0.1014 [-0.1139, -0.0890], z=-14.25, p=0.0000\n",
      "mean=-0.1188 [-0.1284, -0.1092], z=-19.78, p=0.0000\n",
      "mean=-0.0894 [-0.1048, -0.0741], z=-10.67, p=0.0000\n",
      "mean=-0.1068 [-0.1197, -0.0939], z=-14.65, p=0.0000\n",
      "mean=-0.0174 [-0.0265, -0.0083], z=-3.86, p=0.0001\n"
     ]
    }
   ],
   "source": [
    "\"\"\"\n",
    "SO and rsFC-LA: rho 0.1304 p 0.0147 mean 0.1239 CI 0.1169-0.1310 \n",
    "SO and rsFC-RA: rho 0.1412 p 0.0099 mean 0.1359 CI 0.1266-0.1452 \n",
    "SO and rsFC-LH: rho 0.2383 p 0.0001 mean 0.2254 CI 0.2147-0.2360 \n",
    "SO and rsFC-RH: rho 0.2580 p 0.0001 mean 0.2427 CI 0.2347-0.2508 \n",
    "\"\"\"\n",
    "\n",
    "for i in range(6):\n",
    "    print('mean=%.4f [%.4f, %.4f], z=%.2f, p=%.4f' % (tvals_SO_2[i][0], tvals_SO_2[i][1], tvals_SO_2[i][2], zvals_SO_2[i], pvals_SO_2[i]))"
   ]
  },
  {
   "cell_type": "code",
   "execution_count": 24,
   "metadata": {
    "ExecuteTime": {
     "end_time": "2023-01-20T15:59:51.756761Z",
     "start_time": "2023-01-20T15:59:51.748225Z"
    }
   },
   "outputs": [
    {
     "name": "stdout",
     "output_type": "stream",
     "text": [
      "mean=0.0274 [0.0130, 0.0418], z=-3.82, p=0.0001\n",
      "mean=0.0303 [0.0160, 0.0446], z=-3.85, p=0.0001\n",
      "mean=0.1483 [0.1334, 0.1631], z=-16.80, p=0.0000\n",
      "mean=0.0029 [-0.0136, 0.0195], z=-0.03, p=0.9751\n",
      "mean=0.1209 [0.1028, 0.1389], z=-11.96, p=0.0000\n",
      "mean=0.1179 [0.1066, 0.1293], z=-17.23, p=0.0000\n"
     ]
    }
   ],
   "source": [
    "\"\"\"\n",
    "OS and rsFC-LA: rho 0.3344 p 0.0001 mean 0.3164 CI 0.3078-0.3250 \n",
    "OS and rsFC-RA: rho 0.3161 p 0.0001 mean 0.2890 CI 0.2788-0.2993\n",
    "OS and rsFC-LH: rho 0.3128 p 0.0001 mean 0.2861 CI 0.2742-0.2980\n",
    "OS and rsFC-RH: rho 0.1912 p 0.0009 mean 0.1682 CI 0.1538-0.1825\n",
    "\"\"\"\n",
    "\n",
    "for i in range(6):\n",
    "    print('mean=%.4f [%.4f, %.4f], z=%.2f, p=%.4f' % (tvals_OS_2[i][0], tvals_OS_2[i][1], tvals_OS_2[i][2], zvals_OS_2[i], pvals_OS_2[i]))"
   ]
  },
  {
   "cell_type": "code",
   "execution_count": 25,
   "metadata": {
    "ExecuteTime": {
     "end_time": "2023-01-20T15:59:59.908014Z",
     "start_time": "2023-01-20T15:59:59.886520Z"
    }
   },
   "outputs": [
    {
     "data": {
      "text/plain": [
       "(array([ True,  True,  True,  True,  True,  True,  True, False, False,\n",
       "         True,  True, False,  True,  True,  True,  True,  True,  True,\n",
       "         True,  True,  True,  True,  True,  True,  True,  True,  True,\n",
       "         True,  True,  True,  True,  True,  True, False,  True,  True]),\n",
       " array([1.30399844e-004, 2.89135116e-011, 1.72019191e-038, 1.40834789e-004,\n",
       "        2.41651088e-053, 5.86422267e-038, 3.04137996e-024, 8.54102157e-001,\n",
       "        1.58656897e-001, 1.94785504e-046, 3.27623066e-041, 1.43802082e-001,\n",
       "        7.94874691e-109, 1.06446075e-026, 1.20198622e-105, 4.72236175e-086,\n",
       "        1.49865126e-020, 1.32232742e-067, 2.00566883e-006, 4.37948584e-045,\n",
       "        1.01330538e-082, 1.12599530e-013, 2.06341375e-093, 4.45970060e-156,\n",
       "        4.23947656e-003, 1.16665831e-045, 3.28777521e-086, 2.31164738e-026,\n",
       "        3.75812807e-048, 1.40834789e-004, 1.51965599e-004, 1.42051398e-004,\n",
       "        9.53447740e-063, 9.75112601e-001, 1.07955297e-032, 6.26199738e-066]),\n",
       " 0.0014237991678133222,\n",
       " 0.001388888888888889)"
      ]
     },
     "execution_count": 25,
     "metadata": {},
     "output_type": "execute_result"
    }
   ],
   "source": [
    "# In testing Hypothesis 2, We corrected multiple comparisons by controlling the expected FDR at 0.05.\n",
    "multipletests(pvals_SS_1+pvals_SO_1+pvals_OS_1+pvals_SS_2+pvals_SO_2+pvals_OS_2, alpha=0.05, method='fdr_bh', is_sorted=False, returnsorted=False)"
   ]
  },
  {
   "cell_type": "markdown",
   "metadata": {},
   "source": [
    "# rsFC-MMS"
   ]
  },
  {
   "cell_type": "code",
   "execution_count": 26,
   "metadata": {
    "ExecuteTime": {
     "end_time": "2023-01-20T16:00:30.352277Z",
     "start_time": "2023-01-20T16:00:23.147859Z"
    }
   },
   "outputs": [],
   "source": [
    "mode = 'rsFC-MMS'\n",
    "results_npp, results_pp, results_ppw, results_cpp_sd = load_bootstrapping_results(mode)\n",
    "parameters_npp, parameters_pp, parameters_ppw, parameters_cpp_sd, combination, titles = construct_parameter_configurations(mode)"
   ]
  },
  {
   "cell_type": "code",
   "execution_count": 27,
   "metadata": {
    "ExecuteTime": {
     "end_time": "2023-01-20T16:01:01.871265Z",
     "start_time": "2023-01-20T16:00:40.785025Z"
    }
   },
   "outputs": [
    {
     "name": "stderr",
     "output_type": "stream",
     "text": [
      "16it [00:21,  1.32s/it]\n"
     ]
    }
   ],
   "source": [
    "winner_npp_3, pvals_npp_3, bsm_npp_3 = model_selection(results_npp, combination, parameters_npp, titles, mms_pc='NPP')"
   ]
  },
  {
   "cell_type": "code",
   "execution_count": 28,
   "metadata": {
    "ExecuteTime": {
     "end_time": "2023-01-20T16:01:51.468275Z",
     "start_time": "2023-01-20T16:01:28.491057Z"
    }
   },
   "outputs": [
    {
     "name": "stderr",
     "output_type": "stream",
     "text": [
      "16it [00:22,  1.44s/it]\n"
     ]
    }
   ],
   "source": [
    "winner_pp_3, pvals_pp_3, bsm_pp_3 = model_selection(results_pp, combination, parameters_pp, titles)"
   ]
  },
  {
   "cell_type": "code",
   "execution_count": 29,
   "metadata": {
    "ExecuteTime": {
     "end_time": "2023-01-20T16:03:47.891124Z",
     "start_time": "2023-01-20T16:01:56.635831Z"
    }
   },
   "outputs": [
    {
     "name": "stderr",
     "output_type": "stream",
     "text": [
      "16it [01:51,  6.95s/it]\n"
     ]
    }
   ],
   "source": [
    "winner_ppw_3, pvals_ppw_3, bsm_ppw_3 = model_selection(results_ppw, combination, parameters_ppw, titles)"
   ]
  },
  {
   "cell_type": "code",
   "execution_count": 30,
   "metadata": {
    "ExecuteTime": {
     "end_time": "2023-01-20T16:05:16.571734Z",
     "start_time": "2023-01-20T16:04:51.677093Z"
    }
   },
   "outputs": [
    {
     "name": "stderr",
     "output_type": "stream",
     "text": [
      "16it [00:24,  1.56s/it]\n"
     ]
    }
   ],
   "source": [
    "winner_cpp_sd_3, pvals_cpp_sd_3, bsm_cpp_sd_3 = model_selection(results_cpp_sd, combination, parameters_cpp_sd, titles)"
   ]
  },
  {
   "cell_type": "code",
   "execution_count": 31,
   "metadata": {
    "ExecuteTime": {
     "end_time": "2023-01-20T16:05:30.278579Z",
     "start_time": "2023-01-20T16:05:30.250637Z"
    },
    "scrolled": false
   },
   "outputs": [
    {
     "name": "stdout",
     "output_type": "stream",
     "text": [
      "CPP-SD: rsFC-LA and MMS-LA: rho 0.2097 p 0.0003 mean 0.1868 CI 0.1769-0.1966 achieved by mahalanobis-mahalanobis-25-mean-min-cosine\n",
      "CPP-SD: rsFC-LA and MMS-RA: rho 0.4942 p 0.0001 mean 0.4683 CI 0.4603-0.4764 achieved by cosine-pearson-50-max-min-manhattan\n",
      "CPP-SD: rsFC-LA and MMS-LH: rho 0.2171 p 0.0001 mean 0.2003 CI 0.1936-0.2071 achieved by pearson-cosine-25-None-pearson\n",
      "CPP-SD: rsFC-LA and MMS-RH: rho 0.3609 p 0.0001 mean 0.3492 CI 0.3424-0.3561 achieved by pearson-manhattan-50-mmm-pearson\n",
      "CPP-SD: rsFC-RA and MMS-LA: rho 0.1627 p 0.0029 mean 0.1632 CI 0.1558-0.1706 achieved by pearson-cosine-50-max-manhattan\n",
      "CPP-SD: rsFC-RA and MMS-RA: rho 0.3848 p 0.0001 mean 0.3676 CI 0.3589-0.3763 achieved by cosine-pearson-50-max-min-manhattan\n",
      "CPP-SD: rsFC-RA and MMS-LH: rho 0.2963 p 0.0001 mean 0.2778 CI 0.2691-0.2865 achieved by pearson-mahalanobis-50-max-mahalanobis\n",
      "CPP-SD: rsFC-RA and MMS-RH: rho 0.2698 p 0.0001 mean 0.2659 CI 0.2585-0.2732 achieved by euclidean-euclidean-50-max-mean-pearson\n",
      "CPP-SD: rsFC-LH and MMS-LA: rho 0.2608 p 0.0001 mean 0.2205 CI 0.2124-0.2287 achieved by mahalanobis-mahalanobis-50-mean-min-cosine\n",
      "CPP-SD: rsFC-LH and MMS-RA: rho 0.3738 p 0.0001 mean 0.3544 CI 0.3469-0.3619 achieved by cosine-cosine-25-min-cosine\n",
      "CPP-SD: rsFC-LH and MMS-LH: rho 0.2043 p 0.0002 mean 0.1653 CI 0.1532-0.1775 achieved by cosine-mahalanobis-50-max-mahalanobis\n",
      "CPP-SD: rsFC-LH and MMS-RH: rho 0.2581 p 0.0001 mean 0.2468 CI 0.2376-0.2559 achieved by cosine-cosine-50-max-min-cosine\n",
      "CPP-SD: rsFC-RH and MMS-LA: rho 0.1796 p 0.0012 mean 0.1685 CI 0.1563-0.1807 achieved by cosine-pearson-50-max-mean-mahalanobis\n",
      "CPP-SD: rsFC-RH and MMS-RA: rho 0.4421 p 0.0001 mean 0.4111 CI 0.4006-0.4215 achieved by cosine-pearson-50-mean-min-pearson\n",
      "CPP-SD: rsFC-RH and MMS-LH: rho 0.2771 p 0.0001 mean 0.2557 CI 0.2452-0.2662 achieved by cosine-mahalanobis-50-None-cosine\n",
      "CPP-SD: rsFC-RH and MMS-RH: rho 0.3787 p 0.0001 mean 0.3363 CI 0.3274-0.3451 achieved by cosine-mahalanobis-25-min-cosine\n"
     ]
    }
   ],
   "source": [
    "pvals_all_3 = eval_all(combination, winner_npp_3, winner_pp_3, winner_ppw_3,\n",
    "                       winner_cpp_sd_3, pvals_npp_3, pvals_pp_3, pvals_ppw_3, pvals_cpp_sd_3, titles)"
   ]
  },
  {
   "cell_type": "code",
   "execution_count": 32,
   "metadata": {
    "ExecuteTime": {
     "end_time": "2023-01-20T16:05:37.549531Z",
     "start_time": "2023-01-20T16:05:37.538349Z"
    }
   },
   "outputs": [
    {
     "data": {
      "text/plain": [
       "(array([ True,  True,  True,  True,  True,  True,  True,  True,  True,\n",
       "         True,  True,  True,  True,  True,  True,  True,  True,  True,\n",
       "         True,  True,  True,  True,  True,  True,  True,  True,  True,\n",
       "         True,  True,  True,  True,  True,  True,  True,  True,  True,\n",
       "         True,  True,  True,  True]),\n",
       " array([0.00013332, 0.00013332, 0.00013332, 0.00013332, 0.00013332,\n",
       "        0.00013332, 0.00013332, 0.00013332, 0.00013332, 0.00013332,\n",
       "        0.00013332, 0.00013332, 0.0002424 , 0.0002424 , 0.00747294,\n",
       "        0.00013332, 0.0139986 , 0.00994772, 0.00013332, 0.00013332,\n",
       "        0.00013332, 0.00013332, 0.00013332, 0.00057137, 0.00035291,\n",
       "        0.00013332, 0.00013332, 0.00013332, 0.00313482, 0.00013332,\n",
       "        0.00013332, 0.00013332, 0.00013332, 0.00013332, 0.0002424 ,\n",
       "        0.00013332, 0.0013332 , 0.00013332, 0.00013332, 0.00013332]),\n",
       " 0.0012815105228752843,\n",
       " 0.00125)"
      ]
     },
     "execution_count": 32,
     "metadata": {},
     "output_type": "execute_result"
    }
   ],
   "source": [
    "# In testing Hypothesis 1, We corrected multiple comparisons by controlling the expected FDR at 0.05.\n",
    "multipletests(pvals_all_1+pvals_2+pvals_all_3, alpha=0.05, method='fdr_bh', is_sorted=False, returnsorted=False)"
   ]
  }
 ],
 "metadata": {
  "kernelspec": {
   "display_name": "Python 3 (ipykernel)",
   "language": "python",
   "name": "python3"
  },
  "language_info": {
   "codemirror_mode": {
    "name": "ipython",
    "version": 3
   },
   "file_extension": ".py",
   "mimetype": "text/x-python",
   "name": "python",
   "nbconvert_exporter": "python",
   "pygments_lexer": "ipython3",
   "version": "3.11.0"
  },
  "latex_envs": {
   "LaTeX_envs_menu_present": true,
   "autoclose": false,
   "autocomplete": true,
   "bibliofile": "biblio.bib",
   "cite_by": "apalike",
   "current_citInitial": 1,
   "eqLabelWithNumbers": true,
   "eqNumInitial": 1,
   "hotkeys": {
    "equation": "Ctrl-E",
    "itemize": "Ctrl-I"
   },
   "labels_anchors": false,
   "latex_user_defs": false,
   "report_style_numbering": false,
   "user_envs_cfg": false
  },
  "toc": {
   "base_numbering": 1,
   "nav_menu": {},
   "number_sections": false,
   "sideBar": true,
   "skip_h1_title": false,
   "title_cell": "Table of Contents",
   "title_sidebar": "Contents",
   "toc_cell": false,
   "toc_position": {
    "height": "calc(100% - 180px)",
    "left": "10px",
    "top": "150px",
    "width": "165px"
   },
   "toc_section_display": true,
   "toc_window_display": true
  },
  "varInspector": {
   "cols": {
    "lenName": 16,
    "lenType": 16,
    "lenVar": 40
   },
   "kernels_config": {
    "python": {
     "delete_cmd_postfix": "",
     "delete_cmd_prefix": "del ",
     "library": "var_list.py",
     "varRefreshCmd": "print(var_dic_list())"
    },
    "r": {
     "delete_cmd_postfix": ") ",
     "delete_cmd_prefix": "rm(",
     "library": "var_list.r",
     "varRefreshCmd": "cat(var_dic_list()) "
    }
   },
   "types_to_exclude": [
    "module",
    "function",
    "builtin_function_or_method",
    "instance",
    "_Feature"
   ],
   "window_display": false
  }
 },
 "nbformat": 4,
 "nbformat_minor": 4
}
